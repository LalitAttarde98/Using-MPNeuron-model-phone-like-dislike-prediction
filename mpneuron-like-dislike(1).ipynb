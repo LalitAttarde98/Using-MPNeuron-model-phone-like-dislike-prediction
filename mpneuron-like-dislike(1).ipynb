{
 "cells": [
  {
   "cell_type": "code",
   "execution_count": 1,
   "id": "483c469a",
   "metadata": {
    "execution": {
     "iopub.execute_input": "2022-09-13T05:03:36.697612Z",
     "iopub.status.busy": "2022-09-13T05:03:36.696845Z",
     "iopub.status.idle": "2022-09-13T05:03:38.036539Z",
     "shell.execute_reply": "2022-09-13T05:03:38.033878Z"
    },
    "papermill": {
     "duration": 1.357277,
     "end_time": "2022-09-13T05:03:38.039586",
     "exception": false,
     "start_time": "2022-09-13T05:03:36.682309",
     "status": "completed"
    },
    "tags": []
   },
   "outputs": [],
   "source": [
    "import numpy as np\n",
    "import pandas as pd\n",
    "import matplotlib.pyplot as plt\n",
    "from sklearn.preprocessing import LabelEncoder,MinMaxScaler, StandardScaler\n",
    "from sklearn.model_selection import train_test_split, ParameterGrid\n",
    "from sklearn.metrics import accuracy_score, confusion_matrix, mean_squared_error, log_loss\n",
    "import operator\n",
    "import json\n",
    "from IPython import display\n",
    "import os\n",
    "import warnings\n",
    "from sklearn.metrics import accuracy_score\n",
    "\n",
    "np.random.seed(0)\n",
    "warnings.filterwarnings(\"ignore\")\n",
    "THRESHOLD = 4"
   ]
  },
  {
   "cell_type": "markdown",
   "id": "9cd599a7",
   "metadata": {
    "papermill": {
     "duration": 0.010709,
     "end_time": "2022-09-13T05:03:38.062028",
     "exception": false,
     "start_time": "2022-09-13T05:03:38.051319",
     "status": "completed"
    },
    "tags": []
   },
   "source": [
    "Task: To predict whether the user likes the mobile phone or not. <br>\n",
    "Assumption: If the average rating of mobile >= threshold, then the user likes it, otherwise not."
   ]
  },
  {
   "cell_type": "markdown",
   "id": "93f55c22",
   "metadata": {
    "papermill": {
     "duration": 0.013939,
     "end_time": "2022-09-13T05:03:38.087397",
     "exception": false,
     "start_time": "2022-09-13T05:03:38.073458",
     "status": "completed"
    },
    "tags": []
   },
   "source": [
    "<b>Missing values:</b><br>\n",
    "'Also Known As'(459),'Applications'(421),'Audio Features'(437),'Bezel-less display'(266),'Browser'(449),'Build Material'(338),'Co-Processor'(451),'Display Colour'(457),'Mobile High-Definition Link(MHL)'(472),'Music'(447)\n",
    "'Email','Fingerprint Sensor Position'(174),'Games'(446),'HDMI'(454),'Heart Rate Monitor'(467),'IRIS Scanner'(467),\n",
    "'Optical Image Stabilisation'(219),'Other Facilities'(444),'Phone Book'(444),'Physical Aperture'(87),'Quick Charging'(122),'Ring Tone'(444),'Ruggedness'(430),SAR Value(315),'SIM 3'(472),'SMS'(470)', 'Screen Protection'(229),'Screen to Body Ratio (claimed by the brand)'(428),'Sensor'(242),'Software Based Aperture'(473),\n",
    "'Special Features'(459),'Standby time'(334),'Stylus'(473),'TalkTime'(259), 'USB Type-C'(374),'Video Player'(456),\n",
    "'Video Recording Features'(458),'Waterproof'(398),'Wireless Charging','USB OTG Support'(159), 'Video ,'Recording'(113),'Java'(471),'Browser'(448)\n",
    "\n",
    "<b>Very low variance:</b><br>\n",
    "'Architecture'(most entries are 64-bit),'Audio Jack','GPS','Loudspeaker','Network','Network Support','Other Sensors'(28),'SIM Size', 'VoLTE'\n",
    "\n",
    "\n",
    "<b>Multivalued:</b><br>\n",
    "'Colours','Custom UI','Model'(1),'Other Sensors','Launch Date'\n",
    "\n",
    "<b>Not important:</b><br>\n",
    "'Bluetooth', 'Settings'(75),'Wi-Fi','Wi-Fi Features'\n",
    "\n",
    "<b>Doubtful:</b><br>\n",
    "'Aspect Ratio','Autofocus','Brand','Camera Features','Fingerprint Sensor'(very few entries are missing),\n",
    "'Fingerprint Sensor Position', 'Graphics'(multivalued),'Image resolution'(multivalued),'SIM Size','Sim Slot(s)', 'User Available Storage', 'SIM 1', 'SIM 2','Shooting Modes', 'Touch Screen'(24), 'USB Connectivity'\n",
    "    \n",
    "<b>To check:</b><br>\n",
    "'Display Type','Expandable Memory','FM Radio'\n",
    "\n",
    "<b>High Correlation with other features</b><br>\n",
    "'SIM Slot(s)' high correlation with SIM1\n",
    "'Weight' has high high correlation with capacity , screen-to-body ratio\n",
    "'Height' - screen size is also there\n",
    "    \n",
    "<b>Given a mobile, we can't directly get these features</b><br>\n",
    "'Rating Count', 'Review Count'\n",
    "\n",
    "<b>Keeping:</b><br>\n",
    "'Capacity','Flash'(17),'Height'(22),'Internal Memory'(20, require cleaning),'Operating System'(25, require cleaning), 'Pixel Density'(1, clean it),'Processor'(22, clean it), 'RAM'(17, clean), 'Rating','Resolution'(cleaning), 'Screen Resolution','Screen Size', 'Thickness'(22), 'Type','User Replaceable','Weight'(cleaning),'Sim Size'(), 'Other Sensors'(28), 'Screen to Body Ratio (calculated)','Width',\n"
   ]
  },
  {
   "cell_type": "code",
   "execution_count": 2,
   "id": "a62ec93e",
   "metadata": {
    "execution": {
     "iopub.execute_input": "2022-09-13T05:03:38.112192Z",
     "iopub.status.busy": "2022-09-13T05:03:38.110813Z",
     "iopub.status.idle": "2022-09-13T05:03:38.262330Z",
     "shell.execute_reply": "2022-09-13T05:03:38.260520Z"
    },
    "papermill": {
     "duration": 0.166877,
     "end_time": "2022-09-13T05:03:38.265594",
     "exception": false,
     "start_time": "2022-09-13T05:03:38.098717",
     "status": "completed"
    },
    "tags": []
   },
   "outputs": [
    {
     "name": "stdout",
     "output_type": "stream",
     "text": [
      "Number of data points in train: 355\n",
      "Number of features in train: 99\n",
      "Number of data points in test: 119\n",
      "Number of features in test: 98\n"
     ]
    }
   ],
   "source": [
    "# read data from file\n",
    "train = pd.read_csv(\"../input/padhai-mp-neuron-like-unlike-classification/train.csv\") \n",
    "test = pd.read_csv(\"../input/padhai-mp-neuron-like-unlike-classification/test.csv\")\n",
    "\n",
    "# check the number of features and data points in train\n",
    "print(\"Number of data points in train: %d\" % train.shape[0])\n",
    "print(\"Number of features in train: %d\" % train.shape[1])\n",
    "\n",
    "# check the number of features and data points in test\n",
    "print(\"Number of data points in test: %d\" % test.shape[0])\n",
    "print(\"Number of features in test: %d\" % test.shape[1])"
   ]
  },
  {
   "cell_type": "code",
   "execution_count": 3,
   "id": "2b14a612",
   "metadata": {
    "execution": {
     "iopub.execute_input": "2022-09-13T05:03:38.292013Z",
     "iopub.status.busy": "2022-09-13T05:03:38.291657Z",
     "iopub.status.idle": "2022-09-13T05:03:38.299870Z",
     "shell.execute_reply": "2022-09-13T05:03:38.298842Z"
    },
    "papermill": {
     "duration": 0.023153,
     "end_time": "2022-09-13T05:03:38.302238",
     "exception": false,
     "start_time": "2022-09-13T05:03:38.279085",
     "status": "completed"
    },
    "tags": []
   },
   "outputs": [],
   "source": [
    "def data_clean(data):\n",
    "    \n",
    "    # Let's first remove all missing value features\n",
    "    columns_to_remove = ['Also Known As','Applications','Audio Features','Bezel-less display'\n",
    "                         'Browser','Build Material','Co-Processor','Browser'\n",
    "                         'Display Colour','Mobile High-Definition Link(MHL)',\n",
    "                         'Music', 'Email','Fingerprint Sensor Position',\n",
    "                         'Games','HDMI','Heart Rate Monitor','IRIS Scanner', \n",
    "                         'Optical Image Stabilisation','Other Facilities',\n",
    "                         'Phone Book','Physical Aperture','Quick Charging',\n",
    "                         'Ring Tone','Ruggedness','SAR Value','SIM 3','SMS',\n",
    "                         'Screen Protection','Screen to Body Ratio (claimed by the brand)',\n",
    "                         'Sensor','Software Based Aperture', 'Special Features',\n",
    "                         'Standby time','Stylus','TalkTime', 'USB Type-C',\n",
    "                         'Video Player', 'Video Recording Features','Waterproof',\n",
    "                         'Wireless Charging','USB OTG Support', 'Video Recording','Java']\n",
    "\n",
    "    columns_to_retain = list(set(data.columns)-set(columns_to_remove))\n",
    "    data = data[columns_to_retain]\n",
    "\n",
    "    #Features having very low variance \n",
    "    columns_to_remove = ['Architecture','Audio Jack','GPS','Loudspeaker','Network','Network Support','VoLTE']\n",
    "    columns_to_retain = list(set(data.columns)-set(columns_to_remove))\n",
    "    data = data[columns_to_retain]\n",
    "\n",
    "    # Multivalued:\n",
    "    columns_to_remove = ['Architecture','Launch Date','Audio Jack','GPS','Loudspeaker','Network','Network Support','VoLTE', 'Custom UI']\n",
    "    columns_to_retain = list(set(data.columns)-set(columns_to_remove))\n",
    "    data = data[columns_to_retain]\n",
    "\n",
    "    # Not much important\n",
    "    columns_to_remove = ['Bluetooth', 'Settings','Wi-Fi','Wi-Fi Features']\n",
    "    columns_to_retain = list(set(data.columns)-set(columns_to_remove))\n",
    "    data = data[columns_to_retain]\n",
    "    \n",
    "    return data"
   ]
  },
  {
   "cell_type": "markdown",
   "id": "dfeb8a27",
   "metadata": {
    "papermill": {
     "duration": 0.010535,
     "end_time": "2022-09-13T05:03:38.324379",
     "exception": false,
     "start_time": "2022-09-13T05:03:38.313844",
     "status": "completed"
    },
    "tags": []
   },
   "source": [
    "# Removing features"
   ]
  },
  {
   "cell_type": "code",
   "execution_count": 4,
   "id": "7b363d7c",
   "metadata": {
    "execution": {
     "iopub.execute_input": "2022-09-13T05:03:38.350211Z",
     "iopub.status.busy": "2022-09-13T05:03:38.349855Z",
     "iopub.status.idle": "2022-09-13T05:03:38.371493Z",
     "shell.execute_reply": "2022-09-13T05:03:38.370257Z"
    },
    "papermill": {
     "duration": 0.037201,
     "end_time": "2022-09-13T05:03:38.374185",
     "exception": false,
     "start_time": "2022-09-13T05:03:38.336984",
     "status": "completed"
    },
    "tags": []
   },
   "outputs": [],
   "source": [
    "train = data_clean(train)\n",
    "test = data_clean(test)"
   ]
  },
  {
   "cell_type": "markdown",
   "id": "23bb4798",
   "metadata": {
    "papermill": {
     "duration": 0.011034,
     "end_time": "2022-09-13T05:03:38.396492",
     "exception": false,
     "start_time": "2022-09-13T05:03:38.385458",
     "status": "completed"
    },
    "tags": []
   },
   "source": [
    "removing all those data points in which more than 15 features are missing "
   ]
  },
  {
   "cell_type": "code",
   "execution_count": 5,
   "id": "c779bd99",
   "metadata": {
    "execution": {
     "iopub.execute_input": "2022-09-13T05:03:38.421363Z",
     "iopub.status.busy": "2022-09-13T05:03:38.420792Z",
     "iopub.status.idle": "2022-09-13T05:03:38.428957Z",
     "shell.execute_reply": "2022-09-13T05:03:38.427590Z"
    },
    "papermill": {
     "duration": 0.023709,
     "end_time": "2022-09-13T05:03:38.431322",
     "exception": false,
     "start_time": "2022-09-13T05:03:38.407613",
     "status": "completed"
    },
    "tags": []
   },
   "outputs": [],
   "source": [
    "train = train[(train.isnull().sum(axis=1) <= 15)]\n",
    "# You shouldn't remove data points from test set\n",
    "#test = test[(test.isnull().sum(axis=1) <= 15)]"
   ]
  },
  {
   "cell_type": "code",
   "execution_count": 6,
   "id": "e5ecf350",
   "metadata": {
    "execution": {
     "iopub.execute_input": "2022-09-13T05:03:38.455018Z",
     "iopub.status.busy": "2022-09-13T05:03:38.454601Z",
     "iopub.status.idle": "2022-09-13T05:03:38.461272Z",
     "shell.execute_reply": "2022-09-13T05:03:38.459721Z"
    },
    "papermill": {
     "duration": 0.02091,
     "end_time": "2022-09-13T05:03:38.463318",
     "exception": false,
     "start_time": "2022-09-13T05:03:38.442408",
     "status": "completed"
    },
    "tags": []
   },
   "outputs": [
    {
     "name": "stdout",
     "output_type": "stream",
     "text": [
      "Number of data points in train: 341\n",
      "Number of features in train: 47\n",
      "Number of data points in test: 119\n",
      "Number of features in test: 46\n"
     ]
    }
   ],
   "source": [
    "# check the number of features and data points in train\n",
    "print(\"Number of data points in train: %d\" % train.shape[0])\n",
    "print(\"Number of features in train: %d\" % train.shape[1])\n",
    "\n",
    "# check the number of features and data points in test\n",
    "print(\"Number of data points in test: %d\" % test.shape[0])\n",
    "print(\"Number of features in test: %d\" % test.shape[1])"
   ]
  },
  {
   "cell_type": "markdown",
   "id": "b070fc1e",
   "metadata": {
    "papermill": {
     "duration": 0.010614,
     "end_time": "2022-09-13T05:03:38.484839",
     "exception": false,
     "start_time": "2022-09-13T05:03:38.474225",
     "status": "completed"
    },
    "tags": []
   },
   "source": [
    "# Filling Missing values"
   ]
  },
  {
   "cell_type": "code",
   "execution_count": 7,
   "id": "9997be78",
   "metadata": {
    "execution": {
     "iopub.execute_input": "2022-09-13T05:03:38.508023Z",
     "iopub.status.busy": "2022-09-13T05:03:38.507723Z",
     "iopub.status.idle": "2022-09-13T05:03:38.519185Z",
     "shell.execute_reply": "2022-09-13T05:03:38.518364Z"
    },
    "papermill": {
     "duration": 0.025128,
     "end_time": "2022-09-13T05:03:38.520708",
     "exception": false,
     "start_time": "2022-09-13T05:03:38.495580",
     "status": "completed"
    },
    "tags": []
   },
   "outputs": [],
   "source": [
    "def for_integer(test):\n",
    "    try:\n",
    "        test = test.strip()\n",
    "        return int(test.split(' ')[0])\n",
    "    except IOError:\n",
    "           pass\n",
    "    except ValueError:\n",
    "        pass\n",
    "    except:\n",
    "        pass\n",
    "\n",
    "def for_string(test):\n",
    "    try:\n",
    "        test = test.strip()\n",
    "        return (test.split(' ')[0])\n",
    "    except IOError:\n",
    "        pass\n",
    "    except ValueError:\n",
    "        pass\n",
    "    except:\n",
    "        pass\n",
    "\n",
    "def for_float(test):\n",
    "    try:\n",
    "        test = test.strip()\n",
    "        return float(test.split(' ')[0])\n",
    "    except IOError:\n",
    "        pass\n",
    "    except ValueError:\n",
    "        pass\n",
    "    except:\n",
    "        pass\n",
    "def find_freq(test):\n",
    "    try:\n",
    "        test = test.strip()\n",
    "        test = test.split(' ')\n",
    "        if test[2][0] == '(':\n",
    "            return float(test[2][1:])\n",
    "        return float(test[2])\n",
    "    except IOError:\n",
    "        pass\n",
    "    except ValueError:\n",
    "        pass\n",
    "    except:\n",
    "        pass\n",
    "\n",
    "    \n",
    "def for_Internal_Memory(test):\n",
    "    try:\n",
    "        test = test.strip()\n",
    "        test = test.split(' ')\n",
    "        if test[1] == 'GB':\n",
    "            return int(test[0])\n",
    "        if test[1] == 'MB':\n",
    "#             print(\"here\")\n",
    "            return (int(test[0]) * 0.001)\n",
    "    except IOError:\n",
    "           pass\n",
    "    except ValueError:\n",
    "        pass\n",
    "    except:\n",
    "        pass\n",
    "    \n",
    "def find_freq(test):\n",
    "    try:\n",
    "        test = test.strip()\n",
    "        test = test.split(' ')\n",
    "        if test[2][0] == '(':\n",
    "            return float(test[2][1:])\n",
    "        return float(test[2])\n",
    "    except IOError:\n",
    "        pass\n",
    "    except ValueError:\n",
    "        pass\n",
    "    except:\n",
    "        pass\n"
   ]
  },
  {
   "cell_type": "code",
   "execution_count": 8,
   "id": "f44c66a4",
   "metadata": {
    "execution": {
     "iopub.execute_input": "2022-09-13T05:03:38.544312Z",
     "iopub.status.busy": "2022-09-13T05:03:38.543754Z",
     "iopub.status.idle": "2022-09-13T05:03:38.560817Z",
     "shell.execute_reply": "2022-09-13T05:03:38.559918Z"
    },
    "papermill": {
     "duration": 0.031303,
     "end_time": "2022-09-13T05:03:38.562899",
     "exception": false,
     "start_time": "2022-09-13T05:03:38.531596",
     "status": "completed"
    },
    "tags": []
   },
   "outputs": [],
   "source": [
    "def data_clean_2(x):\n",
    "    data = x.copy()\n",
    "    \n",
    "    data['Capacity'] = data['Capacity'].apply(for_integer)\n",
    "\n",
    "    data['Height'] = data['Height'].apply(for_float)\n",
    "    data['Height'] = data['Height'].fillna(data['Height'].mean())\n",
    "\n",
    "    data['Internal Memory'] = data['Internal Memory'].apply(for_Internal_Memory)\n",
    "\n",
    "    data['Pixel Density'] = data['Pixel Density'].apply(for_integer)\n",
    "\n",
    "    data['Internal Memory'] = data['Internal Memory'].fillna(data['Internal Memory'].median())\n",
    "    data['Internal Memory'] = data['Internal Memory'].astype(int)\n",
    "\n",
    "    data['RAM'] = data['RAM'].apply(for_integer)\n",
    "    data['RAM'] = data['RAM'].fillna(data['RAM'].median())\n",
    "    data['RAM'] = data['RAM'].astype(int)\n",
    "\n",
    "    data['Resolution'] = data['Resolution'].apply(for_integer)\n",
    "    data['Resolution'] = data['Resolution'].fillna(data['Resolution'].median())\n",
    "    data['Resolution'] = data['Resolution'].astype(int)\n",
    "\n",
    "    data['Screen Size'] = data['Screen Size'].apply(for_float)\n",
    "\n",
    "    data['Thickness'] = data['Thickness'].apply(for_float)\n",
    "    data['Thickness'] = data['Thickness'].fillna(data['Thickness'].mean())\n",
    "    data['Thickness'] = data['Thickness'].round(2)\n",
    "\n",
    "    data['Type'] = data['Type'].fillna('Li-Polymer')\n",
    "\n",
    "    data['Screen to Body Ratio (calculated)'] = data['Screen to Body Ratio (calculated)'].apply(for_float)\n",
    "    data['Screen to Body Ratio (calculated)'] = data['Screen to Body Ratio (calculated)'].fillna(data['Screen to Body Ratio (calculated)'].mean())\n",
    "    data['Screen to Body Ratio (calculated)'] = data['Screen to Body Ratio (calculated)'].round(2)\n",
    "\n",
    "    data['Width'] = data['Width'].apply(for_float)\n",
    "    data['Width'] = data['Width'].fillna(data['Width'].mean())\n",
    "    data['Width'] = data['Width'].round(2)\n",
    "\n",
    "    data['Flash'][data['Flash'].isna() == True] = \"Other\"\n",
    "\n",
    "    data['User Replaceable'][data['User Replaceable'].isna() == True] = \"Other\"\n",
    "\n",
    "    data['Num_cores'] = data['Processor'].apply(for_string)\n",
    "    data['Num_cores'][data['Num_cores'].isna() == True] = \"Other\"\n",
    "\n",
    "\n",
    "    data['Processor_frequency'] = data['Processor'].apply(find_freq)\n",
    "    #because there is one entry with 208MHz values, to convert it to GHz\n",
    "    data['Processor_frequency'][data['Processor_frequency'] > 200] = 0.208\n",
    "    data['Processor_frequency'] = data['Processor_frequency'].fillna(data['Processor_frequency'].mean())\n",
    "    data['Processor_frequency'] = data['Processor_frequency'].round(2)\n",
    "\n",
    "    data['Camera Features'][data['Camera Features'].isna() == True] = \"Other\"\n",
    "\n",
    "    #simplifyig Operating System to os_name for simplicity\n",
    "    data['os_name'] = data['Operating System'].apply(for_string)\n",
    "    data['os_name'][data['os_name'].isna() == True] = \"Other\"\n",
    "\n",
    "    data['Sim1'] = data['SIM 1'].apply(for_string)\n",
    "\n",
    "    data['SIM Size'][data['SIM Size'].isna() == True] = \"Other\"\n",
    "\n",
    "    data['Image Resolution'][data['Image Resolution'].isna() == True] = \"Other\"\n",
    "\n",
    "    data['Fingerprint Sensor'][data['Fingerprint Sensor'].isna() == True] = \"Other\"\n",
    "\n",
    "    data['Expandable Memory'][data['Expandable Memory'].isna() == True] = \"No\"\n",
    "\n",
    "    data['Weight'] = data['Weight'].apply(for_integer)\n",
    "    data['Weight'] = data['Weight'].fillna(data['Weight'].mean())\n",
    "    data['Weight'] = data['Weight'].astype(int)\n",
    "\n",
    "    data['SIM 2'] = data['SIM 2'].apply(for_string)\n",
    "    data['SIM 2'][data['SIM 2'].isna() == True] = \"Other\"\n",
    "    \n",
    "    return data"
   ]
  },
  {
   "cell_type": "code",
   "execution_count": 9,
   "id": "7dac7cd3",
   "metadata": {
    "execution": {
     "iopub.execute_input": "2022-09-13T05:03:38.586480Z",
     "iopub.status.busy": "2022-09-13T05:03:38.585993Z",
     "iopub.status.idle": "2022-09-13T05:03:38.677806Z",
     "shell.execute_reply": "2022-09-13T05:03:38.676188Z"
    },
    "papermill": {
     "duration": 0.106444,
     "end_time": "2022-09-13T05:03:38.680334",
     "exception": false,
     "start_time": "2022-09-13T05:03:38.573890",
     "status": "completed"
    },
    "tags": []
   },
   "outputs": [
    {
     "name": "stdout",
     "output_type": "stream",
     "text": [
      "Number of data points in train: 341\n",
      "Number of features in train: 51\n",
      "Number of data points in test: 119\n",
      "Number of features in test: 50\n"
     ]
    }
   ],
   "source": [
    "train = data_clean_2(train)\n",
    "test = data_clean_2(test)\n",
    "\n",
    "# check the number of features and data points in train\n",
    "print(\"Number of data points in train: %d\" % train.shape[0])\n",
    "print(\"Number of features in train: %d\" % train.shape[1])\n",
    "\n",
    "# check the number of features and data points in test\n",
    "print(\"Number of data points in test: %d\" % test.shape[0])\n",
    "print(\"Number of features in test: %d\" % test.shape[1])"
   ]
  },
  {
   "cell_type": "markdown",
   "id": "a4a42b5f",
   "metadata": {
    "papermill": {
     "duration": 0.011712,
     "end_time": "2022-09-13T05:03:38.703143",
     "exception": false,
     "start_time": "2022-09-13T05:03:38.691431",
     "status": "completed"
    },
    "tags": []
   },
   "source": [
    "Not very important feature"
   ]
  },
  {
   "cell_type": "code",
   "execution_count": 10,
   "id": "1bed7aed",
   "metadata": {
    "execution": {
     "iopub.execute_input": "2022-09-13T05:03:38.730262Z",
     "iopub.status.busy": "2022-09-13T05:03:38.728740Z",
     "iopub.status.idle": "2022-09-13T05:03:38.737939Z",
     "shell.execute_reply": "2022-09-13T05:03:38.737060Z"
    },
    "papermill": {
     "duration": 0.024831,
     "end_time": "2022-09-13T05:03:38.740144",
     "exception": false,
     "start_time": "2022-09-13T05:03:38.715313",
     "status": "completed"
    },
    "tags": []
   },
   "outputs": [],
   "source": [
    "def data_clean_3(x):\n",
    "    \n",
    "    data = x.copy()\n",
    "\n",
    "    columns_to_remove = ['User Available Storage','SIM Size','Chipset','Processor','Autofocus','Aspect Ratio','Touch Screen',\n",
    "                        'Bezel-less display','Operating System','SIM 1','USB Connectivity','Other Sensors','Graphics','FM Radio',\n",
    "                        'NFC','Shooting Modes','Browser','Display Colour' ]\n",
    "\n",
    "    columns_to_retain = list(set(data.columns)-set(columns_to_remove))\n",
    "    data = data[columns_to_retain]\n",
    "\n",
    "\n",
    "    columns_to_remove = [ 'Screen Resolution','User Replaceable','Camera Features',\n",
    "                        'Thickness', 'Display Type']\n",
    "\n",
    "    columns_to_retain = list(set(data.columns)-set(columns_to_remove))\n",
    "    data = data[columns_to_retain]\n",
    "\n",
    "\n",
    "    columns_to_remove = ['Fingerprint Sensor', 'Flash', 'Rating Count', 'Review Count','Image Resolution','Type','Expandable Memory',\\\n",
    "                        'Colours','Width','Model']\n",
    "    columns_to_retain = list(set(data.columns)-set(columns_to_remove))\n",
    "    data = data[columns_to_retain]\n",
    "\n",
    "    return data"
   ]
  },
  {
   "cell_type": "code",
   "execution_count": 11,
   "id": "465269be",
   "metadata": {
    "execution": {
     "iopub.execute_input": "2022-09-13T05:03:38.764736Z",
     "iopub.status.busy": "2022-09-13T05:03:38.763552Z",
     "iopub.status.idle": "2022-09-13T05:03:38.779204Z",
     "shell.execute_reply": "2022-09-13T05:03:38.778029Z"
    },
    "papermill": {
     "duration": 0.030278,
     "end_time": "2022-09-13T05:03:38.781507",
     "exception": false,
     "start_time": "2022-09-13T05:03:38.751229",
     "status": "completed"
    },
    "tags": []
   },
   "outputs": [
    {
     "name": "stdout",
     "output_type": "stream",
     "text": [
      "Number of data points in train: 341\n",
      "Number of features in train: 18\n",
      "Number of data points in test: 119\n",
      "Number of features in test: 17\n"
     ]
    }
   ],
   "source": [
    "train = data_clean_3(train)\n",
    "test = data_clean_3(test)\n",
    "\n",
    "# check the number of features and data points in train\n",
    "print(\"Number of data points in train: %d\" % train.shape[0])\n",
    "print(\"Number of features in train: %d\" % train.shape[1])\n",
    "\n",
    "# check the number of features and data points in test\n",
    "print(\"Number of data points in test: %d\" % test.shape[0])\n",
    "print(\"Number of features in test: %d\" % test.shape[1])"
   ]
  },
  {
   "cell_type": "code",
   "execution_count": 12,
   "id": "d091893a",
   "metadata": {
    "execution": {
     "iopub.execute_input": "2022-09-13T05:03:38.805417Z",
     "iopub.status.busy": "2022-09-13T05:03:38.804932Z",
     "iopub.status.idle": "2022-09-13T05:03:38.832106Z",
     "shell.execute_reply": "2022-09-13T05:03:38.830280Z"
    },
    "papermill": {
     "duration": 0.041732,
     "end_time": "2022-09-13T05:03:38.834575",
     "exception": false,
     "start_time": "2022-09-13T05:03:38.792843",
     "status": "completed"
    },
    "tags": []
   },
   "outputs": [
    {
     "name": "stdout",
     "output_type": "stream",
     "text": [
      "(460, 17)\n",
      "Index(['PhoneId', 'Sim1', 'Screen to Body Ratio (calculated)',\n",
      "       'Internal Memory', 'Weight', 'SIM 2', 'Pixel Density',\n",
      "       'Processor_frequency', 'Resolution', 'RAM', 'SIM Slot(s)', 'Capacity',\n",
      "       'Num_cores', 'Screen Size', 'Height', 'os_name', 'Brand'],\n",
      "      dtype='object')\n",
      "(460, 87)\n",
      "Index(['PhoneId', 'Screen to Body Ratio (calculated)', 'Internal Memory',\n",
      "       'Weight', 'Pixel Density', 'Processor_frequency', 'Resolution', 'RAM',\n",
      "       'Capacity', 'Screen Size', 'Height', 'Sim1_2G', 'Sim1_3G', 'Sim1_4G',\n",
      "       'SIM 2_2G', 'SIM 2_3G', 'SIM 2_4G', 'SIM 2_Other',\n",
      "       'SIM Slot(s)_Dual SIM, GSM+CDMA', 'SIM Slot(s)_Dual SIM, GSM+GSM',\n",
      "       'SIM Slot(s)_Dual SIM, GSM+GSM, Dual VoLTE',\n",
      "       'SIM Slot(s)_Single SIM, GSM', 'Num_cores_312', 'Num_cores_Deca',\n",
      "       'Num_cores_Dual', 'Num_cores_Hexa', 'Num_cores_Octa', 'Num_cores_Other',\n",
      "       'Num_cores_Quad', 'Num_cores_Tru-Octa', 'os_name_Android',\n",
      "       'os_name_Blackberry', 'os_name_KAI', 'os_name_Nokia', 'os_name_Other',\n",
      "       'os_name_Tizen', 'os_name_iOS', 'Brand_10.or', 'Brand_Apple',\n",
      "       'Brand_Asus', 'Brand_Billion', 'Brand_Blackberry', 'Brand_Comio',\n",
      "       'Brand_Coolpad', 'Brand_Do', 'Brand_Gionee', 'Brand_Google',\n",
      "       'Brand_HTC', 'Brand_Honor', 'Brand_Huawei', 'Brand_InFocus',\n",
      "       'Brand_Infinix', 'Brand_Intex', 'Brand_Itel', 'Brand_Jivi',\n",
      "       'Brand_Karbonn', 'Brand_LG', 'Brand_Lava', 'Brand_LeEco',\n",
      "       'Brand_Lenovo', 'Brand_Lephone', 'Brand_Lyf', 'Brand_Meizu',\n",
      "       'Brand_Micromax', 'Brand_Mobiistar', 'Brand_Moto', 'Brand_Motorola',\n",
      "       'Brand_Nokia', 'Brand_Nubia', 'Brand_OPPO', 'Brand_OnePlus',\n",
      "       'Brand_Oppo', 'Brand_Panasonic', 'Brand_Razer', 'Brand_Realme',\n",
      "       'Brand_Reliance', 'Brand_Samsung', 'Brand_Sony', 'Brand_Spice',\n",
      "       'Brand_Tecno', 'Brand_Ulefone', 'Brand_VOTO', 'Brand_Vivo',\n",
      "       'Brand_Xiaomi', 'Brand_Xiaomi Poco', 'Brand_Yu', 'Brand_iVooMi'],\n",
      "      dtype='object')\n"
     ]
    }
   ],
   "source": [
    "# one hot encoding\n",
    "\n",
    "train_ids = train['PhoneId']\n",
    "test_ids = test['PhoneId']\n",
    "\n",
    "cols = list(test.columns)\n",
    "cols.remove('PhoneId')\n",
    "cols.insert(0, 'PhoneId')\n",
    "\n",
    "combined = pd.concat([train.drop('Rating', axis=1)[cols], test[cols]])\n",
    "print(combined.shape)\n",
    "print(combined.columns)\n",
    "\n",
    "combined = pd.get_dummies(combined)\n",
    "print(combined.shape)\n",
    "print(combined.columns)\n",
    "\n",
    "train_new = combined[combined['PhoneId'].isin(train_ids)]\n",
    "test_new = combined[combined['PhoneId'].isin(test_ids)]"
   ]
  },
  {
   "cell_type": "code",
   "execution_count": 13,
   "id": "d0038ae6",
   "metadata": {
    "execution": {
     "iopub.execute_input": "2022-09-13T05:03:38.859361Z",
     "iopub.status.busy": "2022-09-13T05:03:38.858824Z",
     "iopub.status.idle": "2022-09-13T05:03:38.872227Z",
     "shell.execute_reply": "2022-09-13T05:03:38.871217Z"
    },
    "papermill": {
     "duration": 0.028472,
     "end_time": "2022-09-13T05:03:38.874517",
     "exception": false,
     "start_time": "2022-09-13T05:03:38.846045",
     "status": "completed"
    },
    "tags": []
   },
   "outputs": [],
   "source": [
    "train_new = train_new.merge(train[['PhoneId', 'Rating']], on='PhoneId')"
   ]
  },
  {
   "cell_type": "code",
   "execution_count": 14,
   "id": "58ab1882",
   "metadata": {
    "execution": {
     "iopub.execute_input": "2022-09-13T05:03:38.898462Z",
     "iopub.status.busy": "2022-09-13T05:03:38.898155Z",
     "iopub.status.idle": "2022-09-13T05:03:38.905345Z",
     "shell.execute_reply": "2022-09-13T05:03:38.903201Z"
    },
    "papermill": {
     "duration": 0.022276,
     "end_time": "2022-09-13T05:03:38.908057",
     "exception": false,
     "start_time": "2022-09-13T05:03:38.885781",
     "status": "completed"
    },
    "tags": []
   },
   "outputs": [
    {
     "name": "stdout",
     "output_type": "stream",
     "text": [
      "Number of data points in train: 341\n",
      "Number of features in train: 88\n",
      "Number of data points in test: 119\n",
      "Number of features in test: 87\n"
     ]
    }
   ],
   "source": [
    "# check the number of features and data points in train\n",
    "print(\"Number of data points in train: %d\" % train_new.shape[0])\n",
    "print(\"Number of features in train: %d\" % train_new.shape[1])\n",
    "\n",
    "# check the number of features and data points in test\n",
    "print(\"Number of data points in test: %d\" % test_new.shape[0])\n",
    "print(\"Number of features in test: %d\" % test_new.shape[1])"
   ]
  },
  {
   "cell_type": "code",
   "execution_count": 15,
   "id": "7b235357",
   "metadata": {
    "execution": {
     "iopub.execute_input": "2022-09-13T05:03:38.933701Z",
     "iopub.status.busy": "2022-09-13T05:03:38.932465Z",
     "iopub.status.idle": "2022-09-13T05:03:38.959614Z",
     "shell.execute_reply": "2022-09-13T05:03:38.958210Z"
    },
    "papermill": {
     "duration": 0.042558,
     "end_time": "2022-09-13T05:03:38.962310",
     "exception": false,
     "start_time": "2022-09-13T05:03:38.919752",
     "status": "completed"
    },
    "tags": []
   },
   "outputs": [
    {
     "data": {
      "text/html": [
       "<div>\n",
       "<style scoped>\n",
       "    .dataframe tbody tr th:only-of-type {\n",
       "        vertical-align: middle;\n",
       "    }\n",
       "\n",
       "    .dataframe tbody tr th {\n",
       "        vertical-align: top;\n",
       "    }\n",
       "\n",
       "    .dataframe thead th {\n",
       "        text-align: right;\n",
       "    }\n",
       "</style>\n",
       "<table border=\"1\" class=\"dataframe\">\n",
       "  <thead>\n",
       "    <tr style=\"text-align: right;\">\n",
       "      <th></th>\n",
       "      <th>PhoneId</th>\n",
       "      <th>Screen to Body Ratio (calculated)</th>\n",
       "      <th>Internal Memory</th>\n",
       "      <th>Weight</th>\n",
       "      <th>Pixel Density</th>\n",
       "      <th>Processor_frequency</th>\n",
       "      <th>Resolution</th>\n",
       "      <th>RAM</th>\n",
       "      <th>Capacity</th>\n",
       "      <th>Screen Size</th>\n",
       "      <th>...</th>\n",
       "      <th>Brand_Spice</th>\n",
       "      <th>Brand_Tecno</th>\n",
       "      <th>Brand_Ulefone</th>\n",
       "      <th>Brand_VOTO</th>\n",
       "      <th>Brand_Vivo</th>\n",
       "      <th>Brand_Xiaomi</th>\n",
       "      <th>Brand_Xiaomi Poco</th>\n",
       "      <th>Brand_Yu</th>\n",
       "      <th>Brand_iVooMi</th>\n",
       "      <th>Rating</th>\n",
       "    </tr>\n",
       "  </thead>\n",
       "  <tbody>\n",
       "    <tr>\n",
       "      <th>0</th>\n",
       "      <td>0</td>\n",
       "      <td>80.68</td>\n",
       "      <td>64</td>\n",
       "      <td>182</td>\n",
       "      <td>403</td>\n",
       "      <td>1.8</td>\n",
       "      <td>20</td>\n",
       "      <td>4</td>\n",
       "      <td>4000</td>\n",
       "      <td>6.26</td>\n",
       "      <td>...</td>\n",
       "      <td>0</td>\n",
       "      <td>0</td>\n",
       "      <td>0</td>\n",
       "      <td>0</td>\n",
       "      <td>0</td>\n",
       "      <td>1</td>\n",
       "      <td>0</td>\n",
       "      <td>0</td>\n",
       "      <td>0</td>\n",
       "      <td>4.5</td>\n",
       "    </tr>\n",
       "    <tr>\n",
       "      <th>1</th>\n",
       "      <td>1</td>\n",
       "      <td>80.85</td>\n",
       "      <td>32</td>\n",
       "      <td>168</td>\n",
       "      <td>271</td>\n",
       "      <td>1.8</td>\n",
       "      <td>8</td>\n",
       "      <td>3</td>\n",
       "      <td>4230</td>\n",
       "      <td>6.20</td>\n",
       "      <td>...</td>\n",
       "      <td>0</td>\n",
       "      <td>0</td>\n",
       "      <td>0</td>\n",
       "      <td>0</td>\n",
       "      <td>0</td>\n",
       "      <td>0</td>\n",
       "      <td>0</td>\n",
       "      <td>0</td>\n",
       "      <td>0</td>\n",
       "      <td>4.5</td>\n",
       "    </tr>\n",
       "    <tr>\n",
       "      <th>2</th>\n",
       "      <td>2</td>\n",
       "      <td>83.68</td>\n",
       "      <td>32</td>\n",
       "      <td>168</td>\n",
       "      <td>409</td>\n",
       "      <td>2.1</td>\n",
       "      <td>25</td>\n",
       "      <td>3</td>\n",
       "      <td>3500</td>\n",
       "      <td>6.30</td>\n",
       "      <td>...</td>\n",
       "      <td>0</td>\n",
       "      <td>0</td>\n",
       "      <td>0</td>\n",
       "      <td>0</td>\n",
       "      <td>0</td>\n",
       "      <td>0</td>\n",
       "      <td>0</td>\n",
       "      <td>0</td>\n",
       "      <td>0</td>\n",
       "      <td>4.4</td>\n",
       "    </tr>\n",
       "    <tr>\n",
       "      <th>3</th>\n",
       "      <td>4</td>\n",
       "      <td>74.78</td>\n",
       "      <td>64</td>\n",
       "      <td>169</td>\n",
       "      <td>411</td>\n",
       "      <td>2.2</td>\n",
       "      <td>24</td>\n",
       "      <td>4</td>\n",
       "      <td>3300</td>\n",
       "      <td>6.00</td>\n",
       "      <td>...</td>\n",
       "      <td>0</td>\n",
       "      <td>0</td>\n",
       "      <td>0</td>\n",
       "      <td>0</td>\n",
       "      <td>0</td>\n",
       "      <td>0</td>\n",
       "      <td>0</td>\n",
       "      <td>0</td>\n",
       "      <td>0</td>\n",
       "      <td>4.3</td>\n",
       "    </tr>\n",
       "    <tr>\n",
       "      <th>4</th>\n",
       "      <td>5</td>\n",
       "      <td>84.23</td>\n",
       "      <td>64</td>\n",
       "      <td>175</td>\n",
       "      <td>396</td>\n",
       "      <td>2.2</td>\n",
       "      <td>16</td>\n",
       "      <td>4</td>\n",
       "      <td>3750</td>\n",
       "      <td>6.50</td>\n",
       "      <td>...</td>\n",
       "      <td>0</td>\n",
       "      <td>0</td>\n",
       "      <td>0</td>\n",
       "      <td>0</td>\n",
       "      <td>0</td>\n",
       "      <td>0</td>\n",
       "      <td>0</td>\n",
       "      <td>0</td>\n",
       "      <td>0</td>\n",
       "      <td>4.4</td>\n",
       "    </tr>\n",
       "  </tbody>\n",
       "</table>\n",
       "<p>5 rows × 88 columns</p>\n",
       "</div>"
      ],
      "text/plain": [
       "   PhoneId  Screen to Body Ratio (calculated)  Internal Memory  Weight  \\\n",
       "0        0                              80.68               64     182   \n",
       "1        1                              80.85               32     168   \n",
       "2        2                              83.68               32     168   \n",
       "3        4                              74.78               64     169   \n",
       "4        5                              84.23               64     175   \n",
       "\n",
       "   Pixel Density  Processor_frequency  Resolution  RAM  Capacity  Screen Size  \\\n",
       "0            403                  1.8          20    4      4000         6.26   \n",
       "1            271                  1.8           8    3      4230         6.20   \n",
       "2            409                  2.1          25    3      3500         6.30   \n",
       "3            411                  2.2          24    4      3300         6.00   \n",
       "4            396                  2.2          16    4      3750         6.50   \n",
       "\n",
       "   ...  Brand_Spice  Brand_Tecno  Brand_Ulefone  Brand_VOTO  Brand_Vivo  \\\n",
       "0  ...            0            0              0           0           0   \n",
       "1  ...            0            0              0           0           0   \n",
       "2  ...            0            0              0           0           0   \n",
       "3  ...            0            0              0           0           0   \n",
       "4  ...            0            0              0           0           0   \n",
       "\n",
       "   Brand_Xiaomi  Brand_Xiaomi Poco  Brand_Yu  Brand_iVooMi  Rating  \n",
       "0             1                  0         0             0     4.5  \n",
       "1             0                  0         0             0     4.5  \n",
       "2             0                  0         0             0     4.4  \n",
       "3             0                  0         0             0     4.3  \n",
       "4             0                  0         0             0     4.4  \n",
       "\n",
       "[5 rows x 88 columns]"
      ]
     },
     "execution_count": 15,
     "metadata": {},
     "output_type": "execute_result"
    }
   ],
   "source": [
    "train_new.head()"
   ]
  },
  {
   "cell_type": "code",
   "execution_count": 16,
   "id": "e9f94c23",
   "metadata": {
    "execution": {
     "iopub.execute_input": "2022-09-13T05:03:38.987488Z",
     "iopub.status.busy": "2022-09-13T05:03:38.986911Z",
     "iopub.status.idle": "2022-09-13T05:03:39.006028Z",
     "shell.execute_reply": "2022-09-13T05:03:39.004212Z"
    },
    "papermill": {
     "duration": 0.034419,
     "end_time": "2022-09-13T05:03:39.008213",
     "exception": false,
     "start_time": "2022-09-13T05:03:38.973794",
     "status": "completed"
    },
    "tags": []
   },
   "outputs": [
    {
     "data": {
      "text/html": [
       "<div>\n",
       "<style scoped>\n",
       "    .dataframe tbody tr th:only-of-type {\n",
       "        vertical-align: middle;\n",
       "    }\n",
       "\n",
       "    .dataframe tbody tr th {\n",
       "        vertical-align: top;\n",
       "    }\n",
       "\n",
       "    .dataframe thead th {\n",
       "        text-align: right;\n",
       "    }\n",
       "</style>\n",
       "<table border=\"1\" class=\"dataframe\">\n",
       "  <thead>\n",
       "    <tr style=\"text-align: right;\">\n",
       "      <th></th>\n",
       "      <th>PhoneId</th>\n",
       "      <th>Screen to Body Ratio (calculated)</th>\n",
       "      <th>Internal Memory</th>\n",
       "      <th>Weight</th>\n",
       "      <th>Pixel Density</th>\n",
       "      <th>Processor_frequency</th>\n",
       "      <th>Resolution</th>\n",
       "      <th>RAM</th>\n",
       "      <th>Capacity</th>\n",
       "      <th>Screen Size</th>\n",
       "      <th>...</th>\n",
       "      <th>Brand_Sony</th>\n",
       "      <th>Brand_Spice</th>\n",
       "      <th>Brand_Tecno</th>\n",
       "      <th>Brand_Ulefone</th>\n",
       "      <th>Brand_VOTO</th>\n",
       "      <th>Brand_Vivo</th>\n",
       "      <th>Brand_Xiaomi</th>\n",
       "      <th>Brand_Xiaomi Poco</th>\n",
       "      <th>Brand_Yu</th>\n",
       "      <th>Brand_iVooMi</th>\n",
       "    </tr>\n",
       "  </thead>\n",
       "  <tbody>\n",
       "    <tr>\n",
       "      <th>0</th>\n",
       "      <td>3</td>\n",
       "      <td>80.85</td>\n",
       "      <td>16</td>\n",
       "      <td>168</td>\n",
       "      <td>271</td>\n",
       "      <td>1.8</td>\n",
       "      <td>5</td>\n",
       "      <td>2</td>\n",
       "      <td>4230</td>\n",
       "      <td>6.20</td>\n",
       "      <td>...</td>\n",
       "      <td>0</td>\n",
       "      <td>0</td>\n",
       "      <td>0</td>\n",
       "      <td>0</td>\n",
       "      <td>0</td>\n",
       "      <td>0</td>\n",
       "      <td>0</td>\n",
       "      <td>0</td>\n",
       "      <td>0</td>\n",
       "      <td>0</td>\n",
       "    </tr>\n",
       "    <tr>\n",
       "      <th>1</th>\n",
       "      <td>11</td>\n",
       "      <td>81.60</td>\n",
       "      <td>64</td>\n",
       "      <td>205</td>\n",
       "      <td>402</td>\n",
       "      <td>1.8</td>\n",
       "      <td>12</td>\n",
       "      <td>4</td>\n",
       "      <td>5000</td>\n",
       "      <td>6.20</td>\n",
       "      <td>...</td>\n",
       "      <td>0</td>\n",
       "      <td>0</td>\n",
       "      <td>0</td>\n",
       "      <td>0</td>\n",
       "      <td>0</td>\n",
       "      <td>0</td>\n",
       "      <td>0</td>\n",
       "      <td>0</td>\n",
       "      <td>0</td>\n",
       "      <td>0</td>\n",
       "    </tr>\n",
       "    <tr>\n",
       "      <th>2</th>\n",
       "      <td>13</td>\n",
       "      <td>83.84</td>\n",
       "      <td>64</td>\n",
       "      <td>169</td>\n",
       "      <td>409</td>\n",
       "      <td>2.0</td>\n",
       "      <td>25</td>\n",
       "      <td>6</td>\n",
       "      <td>3500</td>\n",
       "      <td>6.30</td>\n",
       "      <td>...</td>\n",
       "      <td>0</td>\n",
       "      <td>0</td>\n",
       "      <td>0</td>\n",
       "      <td>0</td>\n",
       "      <td>0</td>\n",
       "      <td>0</td>\n",
       "      <td>0</td>\n",
       "      <td>0</td>\n",
       "      <td>0</td>\n",
       "      <td>0</td>\n",
       "    </tr>\n",
       "    <tr>\n",
       "      <th>3</th>\n",
       "      <td>16</td>\n",
       "      <td>83.84</td>\n",
       "      <td>64</td>\n",
       "      <td>169</td>\n",
       "      <td>409</td>\n",
       "      <td>2.0</td>\n",
       "      <td>16</td>\n",
       "      <td>4</td>\n",
       "      <td>3500</td>\n",
       "      <td>6.30</td>\n",
       "      <td>...</td>\n",
       "      <td>0</td>\n",
       "      <td>0</td>\n",
       "      <td>0</td>\n",
       "      <td>0</td>\n",
       "      <td>0</td>\n",
       "      <td>0</td>\n",
       "      <td>0</td>\n",
       "      <td>0</td>\n",
       "      <td>0</td>\n",
       "      <td>0</td>\n",
       "    </tr>\n",
       "    <tr>\n",
       "      <th>4</th>\n",
       "      <td>19</td>\n",
       "      <td>77.43</td>\n",
       "      <td>64</td>\n",
       "      <td>181</td>\n",
       "      <td>403</td>\n",
       "      <td>1.8</td>\n",
       "      <td>20</td>\n",
       "      <td>4</td>\n",
       "      <td>4000</td>\n",
       "      <td>5.99</td>\n",
       "      <td>...</td>\n",
       "      <td>0</td>\n",
       "      <td>0</td>\n",
       "      <td>0</td>\n",
       "      <td>0</td>\n",
       "      <td>0</td>\n",
       "      <td>0</td>\n",
       "      <td>1</td>\n",
       "      <td>0</td>\n",
       "      <td>0</td>\n",
       "      <td>0</td>\n",
       "    </tr>\n",
       "  </tbody>\n",
       "</table>\n",
       "<p>5 rows × 87 columns</p>\n",
       "</div>"
      ],
      "text/plain": [
       "   PhoneId  Screen to Body Ratio (calculated)  Internal Memory  Weight  \\\n",
       "0        3                              80.85               16     168   \n",
       "1       11                              81.60               64     205   \n",
       "2       13                              83.84               64     169   \n",
       "3       16                              83.84               64     169   \n",
       "4       19                              77.43               64     181   \n",
       "\n",
       "   Pixel Density  Processor_frequency  Resolution  RAM  Capacity  Screen Size  \\\n",
       "0            271                  1.8           5    2      4230         6.20   \n",
       "1            402                  1.8          12    4      5000         6.20   \n",
       "2            409                  2.0          25    6      3500         6.30   \n",
       "3            409                  2.0          16    4      3500         6.30   \n",
       "4            403                  1.8          20    4      4000         5.99   \n",
       "\n",
       "   ...  Brand_Sony  Brand_Spice  Brand_Tecno  Brand_Ulefone  Brand_VOTO  \\\n",
       "0  ...           0            0            0              0           0   \n",
       "1  ...           0            0            0              0           0   \n",
       "2  ...           0            0            0              0           0   \n",
       "3  ...           0            0            0              0           0   \n",
       "4  ...           0            0            0              0           0   \n",
       "\n",
       "   Brand_Vivo  Brand_Xiaomi  Brand_Xiaomi Poco  Brand_Yu  Brand_iVooMi  \n",
       "0           0             0                  0         0             0  \n",
       "1           0             0                  0         0             0  \n",
       "2           0             0                  0         0             0  \n",
       "3           0             0                  0         0             0  \n",
       "4           0             1                  0         0             0  \n",
       "\n",
       "[5 rows x 87 columns]"
      ]
     },
     "execution_count": 16,
     "metadata": {},
     "output_type": "execute_result"
    }
   ],
   "source": [
    "test_new.head()"
   ]
  },
  {
   "cell_type": "markdown",
   "id": "2ae4d19b",
   "metadata": {
    "papermill": {
     "duration": 0.01237,
     "end_time": "2022-09-13T05:03:39.033313",
     "exception": false,
     "start_time": "2022-09-13T05:03:39.020943",
     "status": "completed"
    },
    "tags": []
   },
   "source": [
    "## Data observation"
   ]
  },
  {
   "cell_type": "code",
   "execution_count": 17,
   "id": "dc97823d",
   "metadata": {
    "execution": {
     "iopub.execute_input": "2022-09-13T05:03:39.061450Z",
     "iopub.status.busy": "2022-09-13T05:03:39.060879Z",
     "iopub.status.idle": "2022-09-13T05:03:39.215418Z",
     "shell.execute_reply": "2022-09-13T05:03:39.214189Z"
    },
    "papermill": {
     "duration": 0.171302,
     "end_time": "2022-09-13T05:03:39.217522",
     "exception": false,
     "start_time": "2022-09-13T05:03:39.046220",
     "status": "completed"
    },
    "tags": []
   },
   "outputs": [
    {
     "data": {
      "text/html": [
       "<div>\n",
       "<style scoped>\n",
       "    .dataframe tbody tr th:only-of-type {\n",
       "        vertical-align: middle;\n",
       "    }\n",
       "\n",
       "    .dataframe tbody tr th {\n",
       "        vertical-align: top;\n",
       "    }\n",
       "\n",
       "    .dataframe thead th {\n",
       "        text-align: right;\n",
       "    }\n",
       "</style>\n",
       "<table border=\"1\" class=\"dataframe\">\n",
       "  <thead>\n",
       "    <tr style=\"text-align: right;\">\n",
       "      <th></th>\n",
       "      <th>PhoneId</th>\n",
       "      <th>Screen to Body Ratio (calculated)</th>\n",
       "      <th>Internal Memory</th>\n",
       "      <th>Weight</th>\n",
       "      <th>Pixel Density</th>\n",
       "      <th>Processor_frequency</th>\n",
       "      <th>Resolution</th>\n",
       "      <th>RAM</th>\n",
       "      <th>Capacity</th>\n",
       "      <th>Screen Size</th>\n",
       "      <th>...</th>\n",
       "      <th>Brand_Spice</th>\n",
       "      <th>Brand_Tecno</th>\n",
       "      <th>Brand_Ulefone</th>\n",
       "      <th>Brand_VOTO</th>\n",
       "      <th>Brand_Vivo</th>\n",
       "      <th>Brand_Xiaomi</th>\n",
       "      <th>Brand_Xiaomi Poco</th>\n",
       "      <th>Brand_Yu</th>\n",
       "      <th>Brand_iVooMi</th>\n",
       "      <th>Rating</th>\n",
       "    </tr>\n",
       "  </thead>\n",
       "  <tbody>\n",
       "    <tr>\n",
       "      <th>count</th>\n",
       "      <td>341.000000</td>\n",
       "      <td>341.000000</td>\n",
       "      <td>341.000000</td>\n",
       "      <td>341.000000</td>\n",
       "      <td>341.000000</td>\n",
       "      <td>341.000000</td>\n",
       "      <td>341.000000</td>\n",
       "      <td>341.000000</td>\n",
       "      <td>341.000000</td>\n",
       "      <td>341.000000</td>\n",
       "      <td>...</td>\n",
       "      <td>341.0</td>\n",
       "      <td>341.000000</td>\n",
       "      <td>341.000000</td>\n",
       "      <td>341.000000</td>\n",
       "      <td>341.000000</td>\n",
       "      <td>341.000000</td>\n",
       "      <td>341.000000</td>\n",
       "      <td>341.000000</td>\n",
       "      <td>341.000000</td>\n",
       "      <td>341.000000</td>\n",
       "    </tr>\n",
       "    <tr>\n",
       "      <th>mean</th>\n",
       "      <td>232.970674</td>\n",
       "      <td>72.353343</td>\n",
       "      <td>46.369501</td>\n",
       "      <td>161.343109</td>\n",
       "      <td>344.211144</td>\n",
       "      <td>1.792551</td>\n",
       "      <td>9.592375</td>\n",
       "      <td>11.120235</td>\n",
       "      <td>3191.307918</td>\n",
       "      <td>5.462317</td>\n",
       "      <td>...</td>\n",
       "      <td>0.0</td>\n",
       "      <td>0.023460</td>\n",
       "      <td>0.002933</td>\n",
       "      <td>0.002933</td>\n",
       "      <td>0.076246</td>\n",
       "      <td>0.061584</td>\n",
       "      <td>0.008798</td>\n",
       "      <td>0.011730</td>\n",
       "      <td>0.002933</td>\n",
       "      <td>4.072434</td>\n",
       "    </tr>\n",
       "    <tr>\n",
       "      <th>std</th>\n",
       "      <td>137.231746</td>\n",
       "      <td>9.357839</td>\n",
       "      <td>46.435453</td>\n",
       "      <td>22.305556</td>\n",
       "      <td>88.161129</td>\n",
       "      <td>0.451598</td>\n",
       "      <td>5.953827</td>\n",
       "      <td>61.320855</td>\n",
       "      <td>932.533527</td>\n",
       "      <td>0.742529</td>\n",
       "      <td>...</td>\n",
       "      <td>0.0</td>\n",
       "      <td>0.151583</td>\n",
       "      <td>0.054153</td>\n",
       "      <td>0.054153</td>\n",
       "      <td>0.265782</td>\n",
       "      <td>0.240751</td>\n",
       "      <td>0.093520</td>\n",
       "      <td>0.107827</td>\n",
       "      <td>0.054153</td>\n",
       "      <td>0.377066</td>\n",
       "    </tr>\n",
       "    <tr>\n",
       "      <th>min</th>\n",
       "      <td>0.000000</td>\n",
       "      <td>23.600000</td>\n",
       "      <td>0.000000</td>\n",
       "      <td>58.000000</td>\n",
       "      <td>143.000000</td>\n",
       "      <td>1.000000</td>\n",
       "      <td>2.000000</td>\n",
       "      <td>1.000000</td>\n",
       "      <td>1020.000000</td>\n",
       "      <td>2.400000</td>\n",
       "      <td>...</td>\n",
       "      <td>0.0</td>\n",
       "      <td>0.000000</td>\n",
       "      <td>0.000000</td>\n",
       "      <td>0.000000</td>\n",
       "      <td>0.000000</td>\n",
       "      <td>0.000000</td>\n",
       "      <td>0.000000</td>\n",
       "      <td>0.000000</td>\n",
       "      <td>0.000000</td>\n",
       "      <td>2.500000</td>\n",
       "    </tr>\n",
       "    <tr>\n",
       "      <th>25%</th>\n",
       "      <td>110.000000</td>\n",
       "      <td>68.800000</td>\n",
       "      <td>16.000000</td>\n",
       "      <td>150.000000</td>\n",
       "      <td>282.000000</td>\n",
       "      <td>1.400000</td>\n",
       "      <td>5.000000</td>\n",
       "      <td>2.000000</td>\n",
       "      <td>2900.000000</td>\n",
       "      <td>5.200000</td>\n",
       "      <td>...</td>\n",
       "      <td>0.0</td>\n",
       "      <td>0.000000</td>\n",
       "      <td>0.000000</td>\n",
       "      <td>0.000000</td>\n",
       "      <td>0.000000</td>\n",
       "      <td>0.000000</td>\n",
       "      <td>0.000000</td>\n",
       "      <td>0.000000</td>\n",
       "      <td>0.000000</td>\n",
       "      <td>3.900000</td>\n",
       "    </tr>\n",
       "    <tr>\n",
       "      <th>50%</th>\n",
       "      <td>229.000000</td>\n",
       "      <td>72.500000</td>\n",
       "      <td>32.000000</td>\n",
       "      <td>161.000000</td>\n",
       "      <td>326.000000</td>\n",
       "      <td>1.800000</td>\n",
       "      <td>8.000000</td>\n",
       "      <td>3.000000</td>\n",
       "      <td>3055.000000</td>\n",
       "      <td>5.500000</td>\n",
       "      <td>...</td>\n",
       "      <td>0.0</td>\n",
       "      <td>0.000000</td>\n",
       "      <td>0.000000</td>\n",
       "      <td>0.000000</td>\n",
       "      <td>0.000000</td>\n",
       "      <td>0.000000</td>\n",
       "      <td>0.000000</td>\n",
       "      <td>0.000000</td>\n",
       "      <td>0.000000</td>\n",
       "      <td>4.100000</td>\n",
       "    </tr>\n",
       "    <tr>\n",
       "      <th>75%</th>\n",
       "      <td>354.000000</td>\n",
       "      <td>77.480000</td>\n",
       "      <td>64.000000</td>\n",
       "      <td>172.000000</td>\n",
       "      <td>403.000000</td>\n",
       "      <td>2.200000</td>\n",
       "      <td>13.000000</td>\n",
       "      <td>4.000000</td>\n",
       "      <td>3750.000000</td>\n",
       "      <td>6.000000</td>\n",
       "      <td>...</td>\n",
       "      <td>0.0</td>\n",
       "      <td>0.000000</td>\n",
       "      <td>0.000000</td>\n",
       "      <td>0.000000</td>\n",
       "      <td>0.000000</td>\n",
       "      <td>0.000000</td>\n",
       "      <td>0.000000</td>\n",
       "      <td>0.000000</td>\n",
       "      <td>0.000000</td>\n",
       "      <td>4.300000</td>\n",
       "    </tr>\n",
       "    <tr>\n",
       "      <th>max</th>\n",
       "      <td>472.000000</td>\n",
       "      <td>87.660000</td>\n",
       "      <td>512.000000</td>\n",
       "      <td>330.000000</td>\n",
       "      <td>576.000000</td>\n",
       "      <td>2.800000</td>\n",
       "      <td>25.000000</td>\n",
       "      <td>512.000000</td>\n",
       "      <td>13000.000000</td>\n",
       "      <td>6.590000</td>\n",
       "      <td>...</td>\n",
       "      <td>0.0</td>\n",
       "      <td>1.000000</td>\n",
       "      <td>1.000000</td>\n",
       "      <td>1.000000</td>\n",
       "      <td>1.000000</td>\n",
       "      <td>1.000000</td>\n",
       "      <td>1.000000</td>\n",
       "      <td>1.000000</td>\n",
       "      <td>1.000000</td>\n",
       "      <td>5.000000</td>\n",
       "    </tr>\n",
       "  </tbody>\n",
       "</table>\n",
       "<p>8 rows × 88 columns</p>\n",
       "</div>"
      ],
      "text/plain": [
       "          PhoneId  Screen to Body Ratio (calculated)  Internal Memory  \\\n",
       "count  341.000000                         341.000000       341.000000   \n",
       "mean   232.970674                          72.353343        46.369501   \n",
       "std    137.231746                           9.357839        46.435453   \n",
       "min      0.000000                          23.600000         0.000000   \n",
       "25%    110.000000                          68.800000        16.000000   \n",
       "50%    229.000000                          72.500000        32.000000   \n",
       "75%    354.000000                          77.480000        64.000000   \n",
       "max    472.000000                          87.660000       512.000000   \n",
       "\n",
       "           Weight  Pixel Density  Processor_frequency  Resolution         RAM  \\\n",
       "count  341.000000     341.000000           341.000000  341.000000  341.000000   \n",
       "mean   161.343109     344.211144             1.792551    9.592375   11.120235   \n",
       "std     22.305556      88.161129             0.451598    5.953827   61.320855   \n",
       "min     58.000000     143.000000             1.000000    2.000000    1.000000   \n",
       "25%    150.000000     282.000000             1.400000    5.000000    2.000000   \n",
       "50%    161.000000     326.000000             1.800000    8.000000    3.000000   \n",
       "75%    172.000000     403.000000             2.200000   13.000000    4.000000   \n",
       "max    330.000000     576.000000             2.800000   25.000000  512.000000   \n",
       "\n",
       "           Capacity  Screen Size  ...  Brand_Spice  Brand_Tecno  \\\n",
       "count    341.000000   341.000000  ...        341.0   341.000000   \n",
       "mean    3191.307918     5.462317  ...          0.0     0.023460   \n",
       "std      932.533527     0.742529  ...          0.0     0.151583   \n",
       "min     1020.000000     2.400000  ...          0.0     0.000000   \n",
       "25%     2900.000000     5.200000  ...          0.0     0.000000   \n",
       "50%     3055.000000     5.500000  ...          0.0     0.000000   \n",
       "75%     3750.000000     6.000000  ...          0.0     0.000000   \n",
       "max    13000.000000     6.590000  ...          0.0     1.000000   \n",
       "\n",
       "       Brand_Ulefone  Brand_VOTO  Brand_Vivo  Brand_Xiaomi  Brand_Xiaomi Poco  \\\n",
       "count     341.000000  341.000000  341.000000    341.000000         341.000000   \n",
       "mean        0.002933    0.002933    0.076246      0.061584           0.008798   \n",
       "std         0.054153    0.054153    0.265782      0.240751           0.093520   \n",
       "min         0.000000    0.000000    0.000000      0.000000           0.000000   \n",
       "25%         0.000000    0.000000    0.000000      0.000000           0.000000   \n",
       "50%         0.000000    0.000000    0.000000      0.000000           0.000000   \n",
       "75%         0.000000    0.000000    0.000000      0.000000           0.000000   \n",
       "max         1.000000    1.000000    1.000000      1.000000           1.000000   \n",
       "\n",
       "         Brand_Yu  Brand_iVooMi      Rating  \n",
       "count  341.000000    341.000000  341.000000  \n",
       "mean     0.011730      0.002933    4.072434  \n",
       "std      0.107827      0.054153    0.377066  \n",
       "min      0.000000      0.000000    2.500000  \n",
       "25%      0.000000      0.000000    3.900000  \n",
       "50%      0.000000      0.000000    4.100000  \n",
       "75%      0.000000      0.000000    4.300000  \n",
       "max      1.000000      1.000000    5.000000  \n",
       "\n",
       "[8 rows x 88 columns]"
      ]
     },
     "execution_count": 17,
     "metadata": {},
     "output_type": "execute_result"
    }
   ],
   "source": [
    "train_new.describe()"
   ]
  },
  {
   "cell_type": "code",
   "execution_count": 18,
   "id": "20bc1608",
   "metadata": {
    "execution": {
     "iopub.execute_input": "2022-09-13T05:03:39.243825Z",
     "iopub.status.busy": "2022-09-13T05:03:39.243438Z",
     "iopub.status.idle": "2022-09-13T05:03:39.441372Z",
     "shell.execute_reply": "2022-09-13T05:03:39.440318Z"
    },
    "papermill": {
     "duration": 0.21347,
     "end_time": "2022-09-13T05:03:39.443447",
     "exception": false,
     "start_time": "2022-09-13T05:03:39.229977",
     "status": "completed"
    },
    "tags": []
   },
   "outputs": [],
   "source": [
    "import seaborn as sns\n"
   ]
  },
  {
   "cell_type": "code",
   "execution_count": 19,
   "id": "4218b6e9",
   "metadata": {
    "execution": {
     "iopub.execute_input": "2022-09-13T05:03:39.469463Z",
     "iopub.status.busy": "2022-09-13T05:03:39.469130Z",
     "iopub.status.idle": "2022-09-13T05:03:39.474526Z",
     "shell.execute_reply": "2022-09-13T05:03:39.473484Z"
    },
    "papermill": {
     "duration": 0.020592,
     "end_time": "2022-09-13T05:03:39.476564",
     "exception": false,
     "start_time": "2022-09-13T05:03:39.455972",
     "status": "completed"
    },
    "tags": []
   },
   "outputs": [],
   "source": [
    "test_old = test_new['PhoneId']"
   ]
  },
  {
   "cell_type": "code",
   "execution_count": 20,
   "id": "61dd5bbd",
   "metadata": {
    "execution": {
     "iopub.execute_input": "2022-09-13T05:03:39.503942Z",
     "iopub.status.busy": "2022-09-13T05:03:39.503329Z",
     "iopub.status.idle": "2022-09-13T05:03:39.509630Z",
     "shell.execute_reply": "2022-09-13T05:03:39.508830Z"
    },
    "papermill": {
     "duration": 0.023681,
     "end_time": "2022-09-13T05:03:39.512648",
     "exception": false,
     "start_time": "2022-09-13T05:03:39.488967",
     "status": "completed"
    },
    "tags": []
   },
   "outputs": [
    {
     "data": {
      "text/plain": [
       "Index(['PhoneId', 'Screen to Body Ratio (calculated)', 'Internal Memory',\n",
       "       'Weight', 'Pixel Density', 'Processor_frequency', 'Resolution', 'RAM',\n",
       "       'Capacity', 'Screen Size', 'Height', 'Sim1_2G', 'Sim1_3G', 'Sim1_4G',\n",
       "       'SIM 2_2G', 'SIM 2_3G', 'SIM 2_4G', 'SIM 2_Other',\n",
       "       'SIM Slot(s)_Dual SIM, GSM+CDMA', 'SIM Slot(s)_Dual SIM, GSM+GSM',\n",
       "       'SIM Slot(s)_Dual SIM, GSM+GSM, Dual VoLTE',\n",
       "       'SIM Slot(s)_Single SIM, GSM', 'Num_cores_312', 'Num_cores_Deca',\n",
       "       'Num_cores_Dual', 'Num_cores_Hexa', 'Num_cores_Octa', 'Num_cores_Other',\n",
       "       'Num_cores_Quad', 'Num_cores_Tru-Octa', 'os_name_Android',\n",
       "       'os_name_Blackberry', 'os_name_KAI', 'os_name_Nokia', 'os_name_Other',\n",
       "       'os_name_Tizen', 'os_name_iOS', 'Brand_10.or', 'Brand_Apple',\n",
       "       'Brand_Asus', 'Brand_Billion', 'Brand_Blackberry', 'Brand_Comio',\n",
       "       'Brand_Coolpad', 'Brand_Do', 'Brand_Gionee', 'Brand_Google',\n",
       "       'Brand_HTC', 'Brand_Honor', 'Brand_Huawei', 'Brand_InFocus',\n",
       "       'Brand_Infinix', 'Brand_Intex', 'Brand_Itel', 'Brand_Jivi',\n",
       "       'Brand_Karbonn', 'Brand_LG', 'Brand_Lava', 'Brand_LeEco',\n",
       "       'Brand_Lenovo', 'Brand_Lephone', 'Brand_Lyf', 'Brand_Meizu',\n",
       "       'Brand_Micromax', 'Brand_Mobiistar', 'Brand_Moto', 'Brand_Motorola',\n",
       "       'Brand_Nokia', 'Brand_Nubia', 'Brand_OPPO', 'Brand_OnePlus',\n",
       "       'Brand_Oppo', 'Brand_Panasonic', 'Brand_Razer', 'Brand_Realme',\n",
       "       'Brand_Reliance', 'Brand_Samsung', 'Brand_Sony', 'Brand_Spice',\n",
       "       'Brand_Tecno', 'Brand_Ulefone', 'Brand_VOTO', 'Brand_Vivo',\n",
       "       'Brand_Xiaomi', 'Brand_Xiaomi Poco', 'Brand_Yu', 'Brand_iVooMi',\n",
       "       'Rating'],\n",
       "      dtype='object')"
      ]
     },
     "execution_count": 20,
     "metadata": {},
     "output_type": "execute_result"
    }
   ],
   "source": [
    "train_new.columns"
   ]
  },
  {
   "cell_type": "code",
   "execution_count": 21,
   "id": "3339cd49",
   "metadata": {
    "execution": {
     "iopub.execute_input": "2022-09-13T05:03:39.539367Z",
     "iopub.status.busy": "2022-09-13T05:03:39.538902Z",
     "iopub.status.idle": "2022-09-13T05:03:39.545714Z",
     "shell.execute_reply": "2022-09-13T05:03:39.544740Z"
    },
    "papermill": {
     "duration": 0.022753,
     "end_time": "2022-09-13T05:03:39.547890",
     "exception": false,
     "start_time": "2022-09-13T05:03:39.525137",
     "status": "completed"
    },
    "tags": []
   },
   "outputs": [],
   "source": [
    "train_new = train_new.drop('PhoneId', axis = 1)\n",
    "test_new = test_new.drop('PhoneId', axis = 1)"
   ]
  },
  {
   "cell_type": "code",
   "execution_count": 22,
   "id": "678b1723",
   "metadata": {
    "execution": {
     "iopub.execute_input": "2022-09-13T05:03:39.576932Z",
     "iopub.status.busy": "2022-09-13T05:03:39.575305Z",
     "iopub.status.idle": "2022-09-13T05:03:39.588866Z",
     "shell.execute_reply": "2022-09-13T05:03:39.587521Z"
    },
    "papermill": {
     "duration": 0.031364,
     "end_time": "2022-09-13T05:03:39.591976",
     "exception": false,
     "start_time": "2022-09-13T05:03:39.560612",
     "status": "completed"
    },
    "tags": []
   },
   "outputs": [
    {
     "data": {
      "text/plain": [
       "4.3    44\n",
       "4.1    41\n",
       "4.4    41\n",
       "4.0    38\n",
       "4.2    33\n",
       "3.9    29\n",
       "4.5    25\n",
       "3.8    16\n",
       "3.7    14\n",
       "3.4    11\n",
       "4.6    10\n",
       "3.5    10\n",
       "3.6     8\n",
       "3.3     5\n",
       "3.0     4\n",
       "5.0     2\n",
       "4.8     2\n",
       "4.7     2\n",
       "3.1     2\n",
       "2.8     2\n",
       "3.2     1\n",
       "2.5     1\n",
       "Name: Rating, dtype: int64"
      ]
     },
     "execution_count": 22,
     "metadata": {},
     "output_type": "execute_result"
    }
   ],
   "source": [
    "train_new['Rating'].value_counts()"
   ]
  },
  {
   "cell_type": "code",
   "execution_count": 23,
   "id": "17525e2f",
   "metadata": {
    "execution": {
     "iopub.execute_input": "2022-09-13T05:03:39.619504Z",
     "iopub.status.busy": "2022-09-13T05:03:39.619142Z",
     "iopub.status.idle": "2022-09-13T05:03:39.633088Z",
     "shell.execute_reply": "2022-09-13T05:03:39.631568Z"
    },
    "papermill": {
     "duration": 0.030345,
     "end_time": "2022-09-13T05:03:39.635071",
     "exception": false,
     "start_time": "2022-09-13T05:03:39.604726",
     "status": "completed"
    },
    "tags": []
   },
   "outputs": [
    {
     "data": {
      "text/plain": [
       "count    341.000000\n",
       "mean       4.072434\n",
       "std        0.377066\n",
       "min        2.500000\n",
       "25%        3.900000\n",
       "50%        4.100000\n",
       "75%        4.300000\n",
       "max        5.000000\n",
       "Name: Rating, dtype: float64"
      ]
     },
     "execution_count": 23,
     "metadata": {},
     "output_type": "execute_result"
    }
   ],
   "source": [
    "train_new['Rating'].describe()"
   ]
  },
  {
   "cell_type": "code",
   "execution_count": 24,
   "id": "9e0d2b33",
   "metadata": {
    "execution": {
     "iopub.execute_input": "2022-09-13T05:03:39.667473Z",
     "iopub.status.busy": "2022-09-13T05:03:39.666944Z",
     "iopub.status.idle": "2022-09-13T05:03:39.676074Z",
     "shell.execute_reply": "2022-09-13T05:03:39.673914Z"
    },
    "papermill": {
     "duration": 0.031435,
     "end_time": "2022-09-13T05:03:39.679609",
     "exception": false,
     "start_time": "2022-09-13T05:03:39.648174",
     "status": "completed"
    },
    "tags": []
   },
   "outputs": [
    {
     "data": {
      "text/plain": [
       "4.1"
      ]
     },
     "execution_count": 24,
     "metadata": {},
     "output_type": "execute_result"
    }
   ],
   "source": [
    "train_new['Rating'].median()"
   ]
  },
  {
   "cell_type": "code",
   "execution_count": 25,
   "id": "ec571119",
   "metadata": {
    "execution": {
     "iopub.execute_input": "2022-09-13T05:03:39.716800Z",
     "iopub.status.busy": "2022-09-13T05:03:39.715280Z",
     "iopub.status.idle": "2022-09-13T05:03:40.411715Z",
     "shell.execute_reply": "2022-09-13T05:03:40.410772Z"
    },
    "papermill": {
     "duration": 0.717076,
     "end_time": "2022-09-13T05:03:40.413797",
     "exception": false,
     "start_time": "2022-09-13T05:03:39.696721",
     "status": "completed"
    },
    "tags": []
   },
   "outputs": [
    {
     "data": {
      "text/plain": [
       "<AxesSubplot:xlabel='Rating', ylabel='Capacity'>"
      ]
     },
     "execution_count": 25,
     "metadata": {},
     "output_type": "execute_result"
    },
    {
     "data": {
      "image/png": "[encoded data removed]",
      "text/plain": [
       "<Figure size 432x288 with 1 Axes>"
      ]
     },
     "metadata": {
      "needs_background": "light"
     },
     "output_type": "display_data"
    }
   ],
   "source": [
    "sns.barplot('Rating','Capacity', data = train_new)"
   ]
  },
  {
   "cell_type": "code",
   "execution_count": 26,
   "id": "b7ed73ae",
   "metadata": {
    "execution": {
     "iopub.execute_input": "2022-09-13T05:03:40.442230Z",
     "iopub.status.busy": "2022-09-13T05:03:40.441870Z",
     "iopub.status.idle": "2022-09-13T05:03:40.627927Z",
     "shell.execute_reply": "2022-09-13T05:03:40.626208Z"
    },
    "papermill": {
     "duration": 0.202694,
     "end_time": "2022-09-13T05:03:40.629982",
     "exception": false,
     "start_time": "2022-09-13T05:03:40.427288",
     "status": "completed"
    },
    "tags": []
   },
   "outputs": [
    {
     "data": {
      "text/plain": [
       "<AxesSubplot:xlabel='Rating', ylabel='Density'>"
      ]
     },
     "execution_count": 26,
     "metadata": {},
     "output_type": "execute_result"
    },
    {
     "data": {
      "image/png": "[encoded data removed]",
      "text/plain": [
       "<Figure size 432x288 with 1 Axes>"
      ]
     },
     "metadata": {
      "needs_background": "light"
     },
     "output_type": "display_data"
    }
   ],
   "source": [
    "sns.kdeplot(train_new['Rating'])"
   ]
  },
  {
   "cell_type": "code",
   "execution_count": 27,
   "id": "eace801b",
   "metadata": {
    "execution": {
     "iopub.execute_input": "2022-09-13T05:03:40.658822Z",
     "iopub.status.busy": "2022-09-13T05:03:40.658462Z",
     "iopub.status.idle": "2022-09-13T05:03:41.877534Z",
     "shell.execute_reply": "2022-09-13T05:03:41.876732Z"
    },
    "papermill": {
     "duration": 1.236092,
     "end_time": "2022-09-13T05:03:41.879465",
     "exception": false,
     "start_time": "2022-09-13T05:03:40.643373",
     "status": "completed"
    },
    "tags": []
   },
   "outputs": [
    {
     "data": {
      "image/png": "[encoded data removed]",
      "text/plain": [
       "<Figure size 432x288 with 1 Axes>"
      ]
     },
     "metadata": {
      "needs_background": "light"
     },
     "output_type": "display_data"
    }
   ],
   "source": [
    "plt.plot(train_new.T, '*')\n",
    "plt.xticks(rotation='vertical')\n",
    "plt.show()"
   ]
  },
  {
   "cell_type": "code",
   "execution_count": 28,
   "id": "99369100",
   "metadata": {
    "execution": {
     "iopub.execute_input": "2022-09-13T05:03:41.909272Z",
     "iopub.status.busy": "2022-09-13T05:03:41.908643Z",
     "iopub.status.idle": "2022-09-13T05:03:41.920622Z",
     "shell.execute_reply": "2022-09-13T05:03:41.919926Z"
    },
    "papermill": {
     "duration": 0.028769,
     "end_time": "2022-09-13T05:03:41.922268",
     "exception": false,
     "start_time": "2022-09-13T05:03:41.893499",
     "status": "completed"
    },
    "tags": []
   },
   "outputs": [
    {
     "data": {
      "text/plain": [
       "Capacity                            -136.307918\n",
       "Pixel Density                        -18.211144\n",
       "Internal Memory                      -14.369501\n",
       "RAM                                   -8.120235\n",
       "Resolution                            -1.592375\n",
       "                                        ...    \n",
       "Screen to Body Ratio (calculated)      0.146657\n",
       "SIM Slot(s)_Dual SIM, GSM+GSM          0.240469\n",
       "SIM 2_4G                               0.316716\n",
       "Num_cores_Octa                         0.419355\n",
       "Height                                 1.353606\n",
       "Length: 87, dtype: float64"
      ]
     },
     "execution_count": 28,
     "metadata": {},
     "output_type": "execute_result"
    }
   ],
   "source": [
    "(train_new.median()-train_new.mean()).sort_values()"
   ]
  },
  {
   "cell_type": "code",
   "execution_count": 29,
   "id": "bb6a5d79",
   "metadata": {
    "execution": {
     "iopub.execute_input": "2022-09-13T05:03:41.951586Z",
     "iopub.status.busy": "2022-09-13T05:03:41.951211Z",
     "iopub.status.idle": "2022-09-13T05:03:42.616549Z",
     "shell.execute_reply": "2022-09-13T05:03:42.615072Z"
    },
    "papermill": {
     "duration": 0.683161,
     "end_time": "2022-09-13T05:03:42.619209",
     "exception": false,
     "start_time": "2022-09-13T05:03:41.936048",
     "status": "completed"
    },
    "tags": []
   },
   "outputs": [
    {
     "data": {
      "text/plain": [
       "<AxesSubplot:xlabel='Rating', ylabel='RAM'>"
      ]
     },
     "execution_count": 29,
     "metadata": {},
     "output_type": "execute_result"
    },
    {
     "data": {
      "image/png": "[encoded data removed]",
      "text/plain": [
       "<Figure size 432x288 with 1 Axes>"
      ]
     },
     "metadata": {
      "needs_background": "light"
     },
     "output_type": "display_data"
    }
   ],
   "source": [
    "sns.barplot('Rating','RAM', data = train_new)"
   ]
  },
  {
   "cell_type": "code",
   "execution_count": 30,
   "id": "45c59f23",
   "metadata": {
    "execution": {
     "iopub.execute_input": "2022-09-13T05:03:42.651117Z",
     "iopub.status.busy": "2022-09-13T05:03:42.650779Z",
     "iopub.status.idle": "2022-09-13T05:03:43.746460Z",
     "shell.execute_reply": "2022-09-13T05:03:43.745251Z"
    },
    "papermill": {
     "duration": 1.114662,
     "end_time": "2022-09-13T05:03:43.748828",
     "exception": false,
     "start_time": "2022-09-13T05:03:42.634166",
     "status": "completed"
    },
    "tags": []
   },
   "outputs": [
    {
     "data": {
      "image/png": "[encoded data removed]",
      "text/plain": [
       "<Figure size 432x288 with 1 Axes>"
      ]
     },
     "metadata": {
      "needs_background": "light"
     },
     "output_type": "display_data"
    }
   ],
   "source": [
    "plt.plot(test_new.T, '*')\n",
    "plt.xticks(rotation='vertical')\n",
    "plt.show()"
   ]
  },
  {
   "cell_type": "code",
   "execution_count": 31,
   "id": "a6ab594f",
   "metadata": {
    "execution": {
     "iopub.execute_input": "2022-09-13T05:03:43.782624Z",
     "iopub.status.busy": "2022-09-13T05:03:43.781646Z",
     "iopub.status.idle": "2022-09-13T05:03:43.786210Z",
     "shell.execute_reply": "2022-09-13T05:03:43.785172Z"
    },
    "papermill": {
     "duration": 0.023694,
     "end_time": "2022-09-13T05:03:43.788440",
     "exception": false,
     "start_time": "2022-09-13T05:03:43.764746",
     "status": "completed"
    },
    "tags": []
   },
   "outputs": [],
   "source": [
    "#train_binarised = train_new.apply(pd.cut, bins=2, labels=[0,1])\n",
    "#test_binarised = test_new.apply(pd.cut, bins=2, labels=[0,1])\n",
    "#result = train_binarised['Rating']"
   ]
  },
  {
   "cell_type": "code",
   "execution_count": 32,
   "id": "21c01e8b",
   "metadata": {
    "execution": {
     "iopub.execute_input": "2022-09-13T05:03:43.823658Z",
     "iopub.status.busy": "2022-09-13T05:03:43.822782Z",
     "iopub.status.idle": "2022-09-13T05:03:48.578305Z",
     "shell.execute_reply": "2022-09-13T05:03:48.577245Z"
    },
    "papermill": {
     "duration": 4.775688,
     "end_time": "2022-09-13T05:03:48.580543",
     "exception": false,
     "start_time": "2022-09-13T05:03:43.804855",
     "status": "completed"
    },
    "tags": []
   },
   "outputs": [],
   "source": [
    "train_binarised = pd.DataFrame()\n",
    "test_binarised = pd.DataFrame()\n",
    "for col in train_new.columns:\n",
    "    train_binarised[col] = train_new[col].apply(lambda x:1 if x >= train_new[col].median() else 0)\n",
    "    if col != 'Rating':\n",
    "        test_binarised[col] = test_new[col].apply(lambda x:1 if x >= test_new[col].median() else 0)\n",
    "\n",
    "result = train_new['Rating'].apply(lambda x:1 if x >= train_new['Rating'].median() else 0)"
   ]
  },
  {
   "cell_type": "code",
   "execution_count": 33,
   "id": "1287b4ec",
   "metadata": {
    "execution": {
     "iopub.execute_input": "2022-09-13T05:03:48.613812Z",
     "iopub.status.busy": "2022-09-13T05:03:48.613471Z",
     "iopub.status.idle": "2022-09-13T05:03:48.620299Z",
     "shell.execute_reply": "2022-09-13T05:03:48.619331Z"
    },
    "papermill": {
     "duration": 0.025766,
     "end_time": "2022-09-13T05:03:48.622248",
     "exception": false,
     "start_time": "2022-09-13T05:03:48.596482",
     "status": "completed"
    },
    "tags": []
   },
   "outputs": [],
   "source": [
    "train_binarised = train_binarised.drop('Rating', axis = 1) "
   ]
  },
  {
   "cell_type": "code",
   "execution_count": 34,
   "id": "e01b8b25",
   "metadata": {
    "execution": {
     "iopub.execute_input": "2022-09-13T05:03:48.654277Z",
     "iopub.status.busy": "2022-09-13T05:03:48.653711Z",
     "iopub.status.idle": "2022-09-13T05:03:48.801354Z",
     "shell.execute_reply": "2022-09-13T05:03:48.800037Z"
    },
    "papermill": {
     "duration": 0.166462,
     "end_time": "2022-09-13T05:03:48.803831",
     "exception": false,
     "start_time": "2022-09-13T05:03:48.637369",
     "status": "completed"
    },
    "tags": []
   },
   "outputs": [
    {
     "data": {
      "text/html": [
       "<div>\n",
       "<style scoped>\n",
       "    .dataframe tbody tr th:only-of-type {\n",
       "        vertical-align: middle;\n",
       "    }\n",
       "\n",
       "    .dataframe tbody tr th {\n",
       "        vertical-align: top;\n",
       "    }\n",
       "\n",
       "    .dataframe thead th {\n",
       "        text-align: right;\n",
       "    }\n",
       "</style>\n",
       "<table border=\"1\" class=\"dataframe\">\n",
       "  <thead>\n",
       "    <tr style=\"text-align: right;\">\n",
       "      <th></th>\n",
       "      <th>Screen to Body Ratio (calculated)</th>\n",
       "      <th>Internal Memory</th>\n",
       "      <th>Weight</th>\n",
       "      <th>Pixel Density</th>\n",
       "      <th>Processor_frequency</th>\n",
       "      <th>Resolution</th>\n",
       "      <th>RAM</th>\n",
       "      <th>Capacity</th>\n",
       "      <th>Screen Size</th>\n",
       "      <th>Height</th>\n",
       "      <th>...</th>\n",
       "      <th>Brand_Spice</th>\n",
       "      <th>Brand_Tecno</th>\n",
       "      <th>Brand_Ulefone</th>\n",
       "      <th>Brand_VOTO</th>\n",
       "      <th>Brand_Vivo</th>\n",
       "      <th>Brand_Xiaomi</th>\n",
       "      <th>Brand_Xiaomi Poco</th>\n",
       "      <th>Brand_Yu</th>\n",
       "      <th>Brand_iVooMi</th>\n",
       "      <th>Rating</th>\n",
       "    </tr>\n",
       "  </thead>\n",
       "  <tbody>\n",
       "    <tr>\n",
       "      <th>count</th>\n",
       "      <td>341.000000</td>\n",
       "      <td>341.000000</td>\n",
       "      <td>341.000000</td>\n",
       "      <td>341.000000</td>\n",
       "      <td>341.000000</td>\n",
       "      <td>341.000000</td>\n",
       "      <td>341.000000</td>\n",
       "      <td>341.000000</td>\n",
       "      <td>341.000000</td>\n",
       "      <td>341.000000</td>\n",
       "      <td>...</td>\n",
       "      <td>341.0</td>\n",
       "      <td>341.000000</td>\n",
       "      <td>341.000000</td>\n",
       "      <td>341.000000</td>\n",
       "      <td>341.000000</td>\n",
       "      <td>341.000000</td>\n",
       "      <td>341.000000</td>\n",
       "      <td>341.000000</td>\n",
       "      <td>341.000000</td>\n",
       "      <td>341.000000</td>\n",
       "    </tr>\n",
       "    <tr>\n",
       "      <th>mean</th>\n",
       "      <td>72.353343</td>\n",
       "      <td>46.369501</td>\n",
       "      <td>161.343109</td>\n",
       "      <td>344.211144</td>\n",
       "      <td>1.792551</td>\n",
       "      <td>9.592375</td>\n",
       "      <td>11.120235</td>\n",
       "      <td>3191.307918</td>\n",
       "      <td>5.462317</td>\n",
       "      <td>149.946394</td>\n",
       "      <td>...</td>\n",
       "      <td>0.0</td>\n",
       "      <td>0.023460</td>\n",
       "      <td>0.002933</td>\n",
       "      <td>0.002933</td>\n",
       "      <td>0.076246</td>\n",
       "      <td>0.061584</td>\n",
       "      <td>0.008798</td>\n",
       "      <td>0.011730</td>\n",
       "      <td>0.002933</td>\n",
       "      <td>4.072434</td>\n",
       "    </tr>\n",
       "    <tr>\n",
       "      <th>std</th>\n",
       "      <td>9.357839</td>\n",
       "      <td>46.435453</td>\n",
       "      <td>22.305556</td>\n",
       "      <td>88.161129</td>\n",
       "      <td>0.451598</td>\n",
       "      <td>5.953827</td>\n",
       "      <td>61.320855</td>\n",
       "      <td>932.533527</td>\n",
       "      <td>0.742529</td>\n",
       "      <td>9.192305</td>\n",
       "      <td>...</td>\n",
       "      <td>0.0</td>\n",
       "      <td>0.151583</td>\n",
       "      <td>0.054153</td>\n",
       "      <td>0.054153</td>\n",
       "      <td>0.265782</td>\n",
       "      <td>0.240751</td>\n",
       "      <td>0.093520</td>\n",
       "      <td>0.107827</td>\n",
       "      <td>0.054153</td>\n",
       "      <td>0.377066</td>\n",
       "    </tr>\n",
       "    <tr>\n",
       "      <th>min</th>\n",
       "      <td>23.600000</td>\n",
       "      <td>0.000000</td>\n",
       "      <td>58.000000</td>\n",
       "      <td>143.000000</td>\n",
       "      <td>1.000000</td>\n",
       "      <td>2.000000</td>\n",
       "      <td>1.000000</td>\n",
       "      <td>1020.000000</td>\n",
       "      <td>2.400000</td>\n",
       "      <td>115.600000</td>\n",
       "      <td>...</td>\n",
       "      <td>0.0</td>\n",
       "      <td>0.000000</td>\n",
       "      <td>0.000000</td>\n",
       "      <td>0.000000</td>\n",
       "      <td>0.000000</td>\n",
       "      <td>0.000000</td>\n",
       "      <td>0.000000</td>\n",
       "      <td>0.000000</td>\n",
       "      <td>0.000000</td>\n",
       "      <td>2.500000</td>\n",
       "    </tr>\n",
       "    <tr>\n",
       "      <th>25%</th>\n",
       "      <td>68.800000</td>\n",
       "      <td>16.000000</td>\n",
       "      <td>150.000000</td>\n",
       "      <td>282.000000</td>\n",
       "      <td>1.400000</td>\n",
       "      <td>5.000000</td>\n",
       "      <td>2.000000</td>\n",
       "      <td>2900.000000</td>\n",
       "      <td>5.200000</td>\n",
       "      <td>146.200000</td>\n",
       "      <td>...</td>\n",
       "      <td>0.0</td>\n",
       "      <td>0.000000</td>\n",
       "      <td>0.000000</td>\n",
       "      <td>0.000000</td>\n",
       "      <td>0.000000</td>\n",
       "      <td>0.000000</td>\n",
       "      <td>0.000000</td>\n",
       "      <td>0.000000</td>\n",
       "      <td>0.000000</td>\n",
       "      <td>3.900000</td>\n",
       "    </tr>\n",
       "    <tr>\n",
       "      <th>50%</th>\n",
       "      <td>72.500000</td>\n",
       "      <td>32.000000</td>\n",
       "      <td>161.000000</td>\n",
       "      <td>326.000000</td>\n",
       "      <td>1.800000</td>\n",
       "      <td>8.000000</td>\n",
       "      <td>3.000000</td>\n",
       "      <td>3055.000000</td>\n",
       "      <td>5.500000</td>\n",
       "      <td>151.300000</td>\n",
       "      <td>...</td>\n",
       "      <td>0.0</td>\n",
       "      <td>0.000000</td>\n",
       "      <td>0.000000</td>\n",
       "      <td>0.000000</td>\n",
       "      <td>0.000000</td>\n",
       "      <td>0.000000</td>\n",
       "      <td>0.000000</td>\n",
       "      <td>0.000000</td>\n",
       "      <td>0.000000</td>\n",
       "      <td>4.100000</td>\n",
       "    </tr>\n",
       "    <tr>\n",
       "      <th>75%</th>\n",
       "      <td>77.480000</td>\n",
       "      <td>64.000000</td>\n",
       "      <td>172.000000</td>\n",
       "      <td>403.000000</td>\n",
       "      <td>2.200000</td>\n",
       "      <td>13.000000</td>\n",
       "      <td>4.000000</td>\n",
       "      <td>3750.000000</td>\n",
       "      <td>6.000000</td>\n",
       "      <td>156.200000</td>\n",
       "      <td>...</td>\n",
       "      <td>0.0</td>\n",
       "      <td>0.000000</td>\n",
       "      <td>0.000000</td>\n",
       "      <td>0.000000</td>\n",
       "      <td>0.000000</td>\n",
       "      <td>0.000000</td>\n",
       "      <td>0.000000</td>\n",
       "      <td>0.000000</td>\n",
       "      <td>0.000000</td>\n",
       "      <td>4.300000</td>\n",
       "    </tr>\n",
       "    <tr>\n",
       "      <th>max</th>\n",
       "      <td>87.660000</td>\n",
       "      <td>512.000000</td>\n",
       "      <td>330.000000</td>\n",
       "      <td>576.000000</td>\n",
       "      <td>2.800000</td>\n",
       "      <td>25.000000</td>\n",
       "      <td>512.000000</td>\n",
       "      <td>13000.000000</td>\n",
       "      <td>6.590000</td>\n",
       "      <td>174.100000</td>\n",
       "      <td>...</td>\n",
       "      <td>0.0</td>\n",
       "      <td>1.000000</td>\n",
       "      <td>1.000000</td>\n",
       "      <td>1.000000</td>\n",
       "      <td>1.000000</td>\n",
       "      <td>1.000000</td>\n",
       "      <td>1.000000</td>\n",
       "      <td>1.000000</td>\n",
       "      <td>1.000000</td>\n",
       "      <td>5.000000</td>\n",
       "    </tr>\n",
       "  </tbody>\n",
       "</table>\n",
       "<p>8 rows × 87 columns</p>\n",
       "</div>"
      ],
      "text/plain": [
       "       Screen to Body Ratio (calculated)  Internal Memory      Weight  \\\n",
       "count                         341.000000       341.000000  341.000000   \n",
       "mean                           72.353343        46.369501  161.343109   \n",
       "std                             9.357839        46.435453   22.305556   \n",
       "min                            23.600000         0.000000   58.000000   \n",
       "25%                            68.800000        16.000000  150.000000   \n",
       "50%                            72.500000        32.000000  161.000000   \n",
       "75%                            77.480000        64.000000  172.000000   \n",
       "max                            87.660000       512.000000  330.000000   \n",
       "\n",
       "       Pixel Density  Processor_frequency  Resolution         RAM  \\\n",
       "count     341.000000           341.000000  341.000000  341.000000   \n",
       "mean      344.211144             1.792551    9.592375   11.120235   \n",
       "std        88.161129             0.451598    5.953827   61.320855   \n",
       "min       143.000000             1.000000    2.000000    1.000000   \n",
       "25%       282.000000             1.400000    5.000000    2.000000   \n",
       "50%       326.000000             1.800000    8.000000    3.000000   \n",
       "75%       403.000000             2.200000   13.000000    4.000000   \n",
       "max       576.000000             2.800000   25.000000  512.000000   \n",
       "\n",
       "           Capacity  Screen Size      Height  ...  Brand_Spice  Brand_Tecno  \\\n",
       "count    341.000000   341.000000  341.000000  ...        341.0   341.000000   \n",
       "mean    3191.307918     5.462317  149.946394  ...          0.0     0.023460   \n",
       "std      932.533527     0.742529    9.192305  ...          0.0     0.151583   \n",
       "min     1020.000000     2.400000  115.600000  ...          0.0     0.000000   \n",
       "25%     2900.000000     5.200000  146.200000  ...          0.0     0.000000   \n",
       "50%     3055.000000     5.500000  151.300000  ...          0.0     0.000000   \n",
       "75%     3750.000000     6.000000  156.200000  ...          0.0     0.000000   \n",
       "max    13000.000000     6.590000  174.100000  ...          0.0     1.000000   \n",
       "\n",
       "       Brand_Ulefone  Brand_VOTO  Brand_Vivo  Brand_Xiaomi  Brand_Xiaomi Poco  \\\n",
       "count     341.000000  341.000000  341.000000    341.000000         341.000000   \n",
       "mean        0.002933    0.002933    0.076246      0.061584           0.008798   \n",
       "std         0.054153    0.054153    0.265782      0.240751           0.093520   \n",
       "min         0.000000    0.000000    0.000000      0.000000           0.000000   \n",
       "25%         0.000000    0.000000    0.000000      0.000000           0.000000   \n",
       "50%         0.000000    0.000000    0.000000      0.000000           0.000000   \n",
       "75%         0.000000    0.000000    0.000000      0.000000           0.000000   \n",
       "max         1.000000    1.000000    1.000000      1.000000           1.000000   \n",
       "\n",
       "         Brand_Yu  Brand_iVooMi      Rating  \n",
       "count  341.000000    341.000000  341.000000  \n",
       "mean     0.011730      0.002933    4.072434  \n",
       "std      0.107827      0.054153    0.377066  \n",
       "min      0.000000      0.000000    2.500000  \n",
       "25%      0.000000      0.000000    3.900000  \n",
       "50%      0.000000      0.000000    4.100000  \n",
       "75%      0.000000      0.000000    4.300000  \n",
       "max      1.000000      1.000000    5.000000  \n",
       "\n",
       "[8 rows x 87 columns]"
      ]
     },
     "execution_count": 34,
     "metadata": {},
     "output_type": "execute_result"
    }
   ],
   "source": [
    "train_new.describe()"
   ]
  },
  {
   "cell_type": "code",
   "execution_count": null,
   "id": "cf87eac6",
   "metadata": {
    "papermill": {
     "duration": 0.015079,
     "end_time": "2022-09-13T05:03:48.834404",
     "exception": false,
     "start_time": "2022-09-13T05:03:48.819325",
     "status": "completed"
    },
    "tags": []
   },
   "outputs": [],
   "source": []
  },
  {
   "cell_type": "code",
   "execution_count": 35,
   "id": "1b936e8b",
   "metadata": {
    "execution": {
     "iopub.execute_input": "2022-09-13T05:03:48.866847Z",
     "iopub.status.busy": "2022-09-13T05:03:48.866520Z",
     "iopub.status.idle": "2022-09-13T05:03:48.876015Z",
     "shell.execute_reply": "2022-09-13T05:03:48.874477Z"
    },
    "papermill": {
     "duration": 0.028696,
     "end_time": "2022-09-13T05:03:48.878595",
     "exception": false,
     "start_time": "2022-09-13T05:03:48.849899",
     "status": "completed"
    },
    "tags": []
   },
   "outputs": [
    {
     "data": {
      "text/plain": [
       "0      81\n",
       "1      85\n",
       "2      85\n",
       "3      85\n",
       "4      85\n",
       "       ..\n",
       "114    86\n",
       "115    85\n",
       "116    79\n",
       "117    76\n",
       "118    79\n",
       "Length: 119, dtype: int64"
      ]
     },
     "execution_count": 35,
     "metadata": {},
     "output_type": "execute_result"
    }
   ],
   "source": [
    "test_binarised.sum(axis = 1)"
   ]
  },
  {
   "cell_type": "code",
   "execution_count": 36,
   "id": "b7cebe3f",
   "metadata": {
    "execution": {
     "iopub.execute_input": "2022-09-13T05:03:48.911265Z",
     "iopub.status.busy": "2022-09-13T05:03:48.910947Z",
     "iopub.status.idle": "2022-09-13T05:03:48.919742Z",
     "shell.execute_reply": "2022-09-13T05:03:48.918829Z"
    },
    "papermill": {
     "duration": 0.027652,
     "end_time": "2022-09-13T05:03:48.921447",
     "exception": false,
     "start_time": "2022-09-13T05:03:48.893795",
     "status": "completed"
    },
    "tags": []
   },
   "outputs": [
    {
     "data": {
      "text/plain": [
       "0      85\n",
       "1      84\n",
       "2      85\n",
       "3      86\n",
       "4      85\n",
       "       ..\n",
       "336    75\n",
       "337    84\n",
       "338    78\n",
       "339    74\n",
       "340    83\n",
       "Length: 341, dtype: int64"
      ]
     },
     "execution_count": 36,
     "metadata": {},
     "output_type": "execute_result"
    }
   ],
   "source": [
    "train_binarised.sum(axis = 1)"
   ]
  },
  {
   "cell_type": "code",
   "execution_count": 37,
   "id": "33986a5b",
   "metadata": {
    "execution": {
     "iopub.execute_input": "2022-09-13T05:03:48.955277Z",
     "iopub.status.busy": "2022-09-13T05:03:48.954715Z",
     "iopub.status.idle": "2022-09-13T05:03:49.877358Z",
     "shell.execute_reply": "2022-09-13T05:03:49.875872Z"
    },
    "papermill": {
     "duration": 0.942913,
     "end_time": "2022-09-13T05:03:49.880114",
     "exception": false,
     "start_time": "2022-09-13T05:03:48.937201",
     "status": "completed"
    },
    "tags": []
   },
   "outputs": [
    {
     "data": {
      "image/png": "[encoded data removed]",
      "text/plain": [
       "<Figure size 432x288 with 1 Axes>"
      ]
     },
     "metadata": {
      "needs_background": "light"
     },
     "output_type": "display_data"
    }
   ],
   "source": [
    "plt.plot(test_binarised.T, '*')\n",
    "plt.xticks(rotation='vertical')\n",
    "plt.show()"
   ]
  },
  {
   "cell_type": "code",
   "execution_count": 38,
   "id": "fc9930c3",
   "metadata": {
    "execution": {
     "iopub.execute_input": "2022-09-13T05:03:49.915954Z",
     "iopub.status.busy": "2022-09-13T05:03:49.915613Z",
     "iopub.status.idle": "2022-09-13T05:03:51.138846Z",
     "shell.execute_reply": "2022-09-13T05:03:51.138184Z"
    },
    "papermill": {
     "duration": 1.243904,
     "end_time": "2022-09-13T05:03:51.140701",
     "exception": false,
     "start_time": "2022-09-13T05:03:49.896797",
     "status": "completed"
    },
    "tags": []
   },
   "outputs": [
    {
     "data": {
      "image/png": "[encoded data removed]",
      "text/plain": [
       "<Figure size 432x288 with 1 Axes>"
      ]
     },
     "metadata": {
      "needs_background": "light"
     },
     "output_type": "display_data"
    }
   ],
   "source": [
    "plt.plot(train_binarised.T, '*')\n",
    "plt.xticks(rotation='vertical')\n",
    "plt.show()"
   ]
  },
  {
   "cell_type": "code",
   "execution_count": 39,
   "id": "7fa5dbc7",
   "metadata": {
    "execution": {
     "iopub.execute_input": "2022-09-13T05:03:51.177303Z",
     "iopub.status.busy": "2022-09-13T05:03:51.176793Z",
     "iopub.status.idle": "2022-09-13T05:03:51.192158Z",
     "shell.execute_reply": "2022-09-13T05:03:51.190825Z"
    },
    "papermill": {
     "duration": 0.036267,
     "end_time": "2022-09-13T05:03:51.194127",
     "exception": false,
     "start_time": "2022-09-13T05:03:51.157860",
     "status": "completed"
    },
    "tags": []
   },
   "outputs": [
    {
     "data": {
      "text/html": [
       "<div>\n",
       "<style scoped>\n",
       "    .dataframe tbody tr th:only-of-type {\n",
       "        vertical-align: middle;\n",
       "    }\n",
       "\n",
       "    .dataframe tbody tr th {\n",
       "        vertical-align: top;\n",
       "    }\n",
       "\n",
       "    .dataframe thead th {\n",
       "        text-align: right;\n",
       "    }\n",
       "</style>\n",
       "<table border=\"1\" class=\"dataframe\">\n",
       "  <thead>\n",
       "    <tr style=\"text-align: right;\">\n",
       "      <th></th>\n",
       "      <th>Screen to Body Ratio (calculated)</th>\n",
       "      <th>Internal Memory</th>\n",
       "      <th>Weight</th>\n",
       "      <th>Pixel Density</th>\n",
       "      <th>Processor_frequency</th>\n",
       "      <th>Resolution</th>\n",
       "      <th>RAM</th>\n",
       "      <th>Capacity</th>\n",
       "      <th>Screen Size</th>\n",
       "      <th>Height</th>\n",
       "      <th>...</th>\n",
       "      <th>Brand_Sony</th>\n",
       "      <th>Brand_Spice</th>\n",
       "      <th>Brand_Tecno</th>\n",
       "      <th>Brand_Ulefone</th>\n",
       "      <th>Brand_VOTO</th>\n",
       "      <th>Brand_Vivo</th>\n",
       "      <th>Brand_Xiaomi</th>\n",
       "      <th>Brand_Xiaomi Poco</th>\n",
       "      <th>Brand_Yu</th>\n",
       "      <th>Brand_iVooMi</th>\n",
       "    </tr>\n",
       "  </thead>\n",
       "  <tbody>\n",
       "    <tr>\n",
       "      <th>0</th>\n",
       "      <td>1</td>\n",
       "      <td>1</td>\n",
       "      <td>1</td>\n",
       "      <td>1</td>\n",
       "      <td>1</td>\n",
       "      <td>1</td>\n",
       "      <td>1</td>\n",
       "      <td>1</td>\n",
       "      <td>1</td>\n",
       "      <td>1</td>\n",
       "      <td>...</td>\n",
       "      <td>1</td>\n",
       "      <td>1</td>\n",
       "      <td>1</td>\n",
       "      <td>1</td>\n",
       "      <td>1</td>\n",
       "      <td>1</td>\n",
       "      <td>1</td>\n",
       "      <td>1</td>\n",
       "      <td>1</td>\n",
       "      <td>1</td>\n",
       "    </tr>\n",
       "    <tr>\n",
       "      <th>1</th>\n",
       "      <td>1</td>\n",
       "      <td>1</td>\n",
       "      <td>1</td>\n",
       "      <td>0</td>\n",
       "      <td>1</td>\n",
       "      <td>1</td>\n",
       "      <td>1</td>\n",
       "      <td>1</td>\n",
       "      <td>1</td>\n",
       "      <td>1</td>\n",
       "      <td>...</td>\n",
       "      <td>1</td>\n",
       "      <td>1</td>\n",
       "      <td>1</td>\n",
       "      <td>1</td>\n",
       "      <td>1</td>\n",
       "      <td>1</td>\n",
       "      <td>1</td>\n",
       "      <td>1</td>\n",
       "      <td>1</td>\n",
       "      <td>1</td>\n",
       "    </tr>\n",
       "    <tr>\n",
       "      <th>2</th>\n",
       "      <td>1</td>\n",
       "      <td>1</td>\n",
       "      <td>1</td>\n",
       "      <td>1</td>\n",
       "      <td>1</td>\n",
       "      <td>1</td>\n",
       "      <td>1</td>\n",
       "      <td>1</td>\n",
       "      <td>1</td>\n",
       "      <td>1</td>\n",
       "      <td>...</td>\n",
       "      <td>1</td>\n",
       "      <td>1</td>\n",
       "      <td>1</td>\n",
       "      <td>1</td>\n",
       "      <td>1</td>\n",
       "      <td>1</td>\n",
       "      <td>1</td>\n",
       "      <td>1</td>\n",
       "      <td>1</td>\n",
       "      <td>1</td>\n",
       "    </tr>\n",
       "    <tr>\n",
       "      <th>3</th>\n",
       "      <td>1</td>\n",
       "      <td>1</td>\n",
       "      <td>1</td>\n",
       "      <td>1</td>\n",
       "      <td>1</td>\n",
       "      <td>1</td>\n",
       "      <td>1</td>\n",
       "      <td>1</td>\n",
       "      <td>1</td>\n",
       "      <td>1</td>\n",
       "      <td>...</td>\n",
       "      <td>1</td>\n",
       "      <td>1</td>\n",
       "      <td>1</td>\n",
       "      <td>1</td>\n",
       "      <td>1</td>\n",
       "      <td>1</td>\n",
       "      <td>1</td>\n",
       "      <td>1</td>\n",
       "      <td>1</td>\n",
       "      <td>1</td>\n",
       "    </tr>\n",
       "    <tr>\n",
       "      <th>4</th>\n",
       "      <td>1</td>\n",
       "      <td>1</td>\n",
       "      <td>1</td>\n",
       "      <td>1</td>\n",
       "      <td>1</td>\n",
       "      <td>1</td>\n",
       "      <td>1</td>\n",
       "      <td>1</td>\n",
       "      <td>1</td>\n",
       "      <td>1</td>\n",
       "      <td>...</td>\n",
       "      <td>1</td>\n",
       "      <td>1</td>\n",
       "      <td>1</td>\n",
       "      <td>1</td>\n",
       "      <td>1</td>\n",
       "      <td>1</td>\n",
       "      <td>1</td>\n",
       "      <td>1</td>\n",
       "      <td>1</td>\n",
       "      <td>1</td>\n",
       "    </tr>\n",
       "  </tbody>\n",
       "</table>\n",
       "<p>5 rows × 86 columns</p>\n",
       "</div>"
      ],
      "text/plain": [
       "   Screen to Body Ratio (calculated)  Internal Memory  Weight  Pixel Density  \\\n",
       "0                                  1                1       1              1   \n",
       "1                                  1                1       1              0   \n",
       "2                                  1                1       1              1   \n",
       "3                                  1                1       1              1   \n",
       "4                                  1                1       1              1   \n",
       "\n",
       "   Processor_frequency  Resolution  RAM  Capacity  Screen Size  Height  ...  \\\n",
       "0                    1           1    1         1            1       1  ...   \n",
       "1                    1           1    1         1            1       1  ...   \n",
       "2                    1           1    1         1            1       1  ...   \n",
       "3                    1           1    1         1            1       1  ...   \n",
       "4                    1           1    1         1            1       1  ...   \n",
       "\n",
       "   Brand_Sony  Brand_Spice  Brand_Tecno  Brand_Ulefone  Brand_VOTO  \\\n",
       "0           1            1            1              1           1   \n",
       "1           1            1            1              1           1   \n",
       "2           1            1            1              1           1   \n",
       "3           1            1            1              1           1   \n",
       "4           1            1            1              1           1   \n",
       "\n",
       "   Brand_Vivo  Brand_Xiaomi  Brand_Xiaomi Poco  Brand_Yu  Brand_iVooMi  \n",
       "0           1             1                  1         1             1  \n",
       "1           1             1                  1         1             1  \n",
       "2           1             1                  1         1             1  \n",
       "3           1             1                  1         1             1  \n",
       "4           1             1                  1         1             1  \n",
       "\n",
       "[5 rows x 86 columns]"
      ]
     },
     "execution_count": 39,
     "metadata": {},
     "output_type": "execute_result"
    }
   ],
   "source": [
    "train_binarised.head()"
   ]
  },
  {
   "cell_type": "code",
   "execution_count": 40,
   "id": "258fbeb9",
   "metadata": {
    "execution": {
     "iopub.execute_input": "2022-09-13T05:03:51.230229Z",
     "iopub.status.busy": "2022-09-13T05:03:51.229649Z",
     "iopub.status.idle": "2022-09-13T05:03:51.575753Z",
     "shell.execute_reply": "2022-09-13T05:03:51.575075Z"
    },
    "papermill": {
     "duration": 0.365842,
     "end_time": "2022-09-13T05:03:51.577361",
     "exception": false,
     "start_time": "2022-09-13T05:03:51.211519",
     "status": "completed"
    },
    "tags": []
   },
   "outputs": [
    {
     "data": {
      "text/html": [
       "<div>\n",
       "<style scoped>\n",
       "    .dataframe tbody tr th:only-of-type {\n",
       "        vertical-align: middle;\n",
       "    }\n",
       "\n",
       "    .dataframe tbody tr th {\n",
       "        vertical-align: top;\n",
       "    }\n",
       "\n",
       "    .dataframe thead th {\n",
       "        text-align: right;\n",
       "    }\n",
       "</style>\n",
       "<table border=\"1\" class=\"dataframe\">\n",
       "  <thead>\n",
       "    <tr style=\"text-align: right;\">\n",
       "      <th></th>\n",
       "      <th>Screen to Body Ratio (calculated)</th>\n",
       "      <th>Internal Memory</th>\n",
       "      <th>Weight</th>\n",
       "      <th>Pixel Density</th>\n",
       "      <th>Processor_frequency</th>\n",
       "      <th>Resolution</th>\n",
       "      <th>RAM</th>\n",
       "      <th>Capacity</th>\n",
       "      <th>Screen Size</th>\n",
       "      <th>Height</th>\n",
       "      <th>...</th>\n",
       "      <th>Brand_Sony</th>\n",
       "      <th>Brand_Spice</th>\n",
       "      <th>Brand_Tecno</th>\n",
       "      <th>Brand_Ulefone</th>\n",
       "      <th>Brand_VOTO</th>\n",
       "      <th>Brand_Vivo</th>\n",
       "      <th>Brand_Xiaomi</th>\n",
       "      <th>Brand_Xiaomi Poco</th>\n",
       "      <th>Brand_Yu</th>\n",
       "      <th>Brand_iVooMi</th>\n",
       "    </tr>\n",
       "  </thead>\n",
       "  <tbody>\n",
       "    <tr>\n",
       "      <th>count</th>\n",
       "      <td>341.000000</td>\n",
       "      <td>341.000000</td>\n",
       "      <td>341.00000</td>\n",
       "      <td>341.000000</td>\n",
       "      <td>341.000000</td>\n",
       "      <td>341.000000</td>\n",
       "      <td>341.000000</td>\n",
       "      <td>341.000000</td>\n",
       "      <td>341.000000</td>\n",
       "      <td>341.000000</td>\n",
       "      <td>...</td>\n",
       "      <td>341.0</td>\n",
       "      <td>341.0</td>\n",
       "      <td>341.0</td>\n",
       "      <td>341.0</td>\n",
       "      <td>341.0</td>\n",
       "      <td>341.0</td>\n",
       "      <td>341.0</td>\n",
       "      <td>341.0</td>\n",
       "      <td>341.0</td>\n",
       "      <td>341.0</td>\n",
       "    </tr>\n",
       "    <tr>\n",
       "      <th>mean</th>\n",
       "      <td>0.507331</td>\n",
       "      <td>0.689150</td>\n",
       "      <td>0.55132</td>\n",
       "      <td>0.510264</td>\n",
       "      <td>0.521994</td>\n",
       "      <td>0.601173</td>\n",
       "      <td>0.718475</td>\n",
       "      <td>0.501466</td>\n",
       "      <td>0.618768</td>\n",
       "      <td>0.501466</td>\n",
       "      <td>...</td>\n",
       "      <td>1.0</td>\n",
       "      <td>1.0</td>\n",
       "      <td>1.0</td>\n",
       "      <td>1.0</td>\n",
       "      <td>1.0</td>\n",
       "      <td>1.0</td>\n",
       "      <td>1.0</td>\n",
       "      <td>1.0</td>\n",
       "      <td>1.0</td>\n",
       "      <td>1.0</td>\n",
       "    </tr>\n",
       "    <tr>\n",
       "      <th>std</th>\n",
       "      <td>0.500681</td>\n",
       "      <td>0.463522</td>\n",
       "      <td>0.49809</td>\n",
       "      <td>0.500629</td>\n",
       "      <td>0.500250</td>\n",
       "      <td>0.490377</td>\n",
       "      <td>0.450404</td>\n",
       "      <td>0.500733</td>\n",
       "      <td>0.486403</td>\n",
       "      <td>0.500733</td>\n",
       "      <td>...</td>\n",
       "      <td>0.0</td>\n",
       "      <td>0.0</td>\n",
       "      <td>0.0</td>\n",
       "      <td>0.0</td>\n",
       "      <td>0.0</td>\n",
       "      <td>0.0</td>\n",
       "      <td>0.0</td>\n",
       "      <td>0.0</td>\n",
       "      <td>0.0</td>\n",
       "      <td>0.0</td>\n",
       "    </tr>\n",
       "    <tr>\n",
       "      <th>min</th>\n",
       "      <td>0.000000</td>\n",
       "      <td>0.000000</td>\n",
       "      <td>0.00000</td>\n",
       "      <td>0.000000</td>\n",
       "      <td>0.000000</td>\n",
       "      <td>0.000000</td>\n",
       "      <td>0.000000</td>\n",
       "      <td>0.000000</td>\n",
       "      <td>0.000000</td>\n",
       "      <td>0.000000</td>\n",
       "      <td>...</td>\n",
       "      <td>1.0</td>\n",
       "      <td>1.0</td>\n",
       "      <td>1.0</td>\n",
       "      <td>1.0</td>\n",
       "      <td>1.0</td>\n",
       "      <td>1.0</td>\n",
       "      <td>1.0</td>\n",
       "      <td>1.0</td>\n",
       "      <td>1.0</td>\n",
       "      <td>1.0</td>\n",
       "    </tr>\n",
       "    <tr>\n",
       "      <th>25%</th>\n",
       "      <td>0.000000</td>\n",
       "      <td>0.000000</td>\n",
       "      <td>0.00000</td>\n",
       "      <td>0.000000</td>\n",
       "      <td>0.000000</td>\n",
       "      <td>0.000000</td>\n",
       "      <td>0.000000</td>\n",
       "      <td>0.000000</td>\n",
       "      <td>0.000000</td>\n",
       "      <td>0.000000</td>\n",
       "      <td>...</td>\n",
       "      <td>1.0</td>\n",
       "      <td>1.0</td>\n",
       "      <td>1.0</td>\n",
       "      <td>1.0</td>\n",
       "      <td>1.0</td>\n",
       "      <td>1.0</td>\n",
       "      <td>1.0</td>\n",
       "      <td>1.0</td>\n",
       "      <td>1.0</td>\n",
       "      <td>1.0</td>\n",
       "    </tr>\n",
       "    <tr>\n",
       "      <th>50%</th>\n",
       "      <td>1.000000</td>\n",
       "      <td>1.000000</td>\n",
       "      <td>1.00000</td>\n",
       "      <td>1.000000</td>\n",
       "      <td>1.000000</td>\n",
       "      <td>1.000000</td>\n",
       "      <td>1.000000</td>\n",
       "      <td>1.000000</td>\n",
       "      <td>1.000000</td>\n",
       "      <td>1.000000</td>\n",
       "      <td>...</td>\n",
       "      <td>1.0</td>\n",
       "      <td>1.0</td>\n",
       "      <td>1.0</td>\n",
       "      <td>1.0</td>\n",
       "      <td>1.0</td>\n",
       "      <td>1.0</td>\n",
       "      <td>1.0</td>\n",
       "      <td>1.0</td>\n",
       "      <td>1.0</td>\n",
       "      <td>1.0</td>\n",
       "    </tr>\n",
       "    <tr>\n",
       "      <th>75%</th>\n",
       "      <td>1.000000</td>\n",
       "      <td>1.000000</td>\n",
       "      <td>1.00000</td>\n",
       "      <td>1.000000</td>\n",
       "      <td>1.000000</td>\n",
       "      <td>1.000000</td>\n",
       "      <td>1.000000</td>\n",
       "      <td>1.000000</td>\n",
       "      <td>1.000000</td>\n",
       "      <td>1.000000</td>\n",
       "      <td>...</td>\n",
       "      <td>1.0</td>\n",
       "      <td>1.0</td>\n",
       "      <td>1.0</td>\n",
       "      <td>1.0</td>\n",
       "      <td>1.0</td>\n",
       "      <td>1.0</td>\n",
       "      <td>1.0</td>\n",
       "      <td>1.0</td>\n",
       "      <td>1.0</td>\n",
       "      <td>1.0</td>\n",
       "    </tr>\n",
       "    <tr>\n",
       "      <th>max</th>\n",
       "      <td>1.000000</td>\n",
       "      <td>1.000000</td>\n",
       "      <td>1.00000</td>\n",
       "      <td>1.000000</td>\n",
       "      <td>1.000000</td>\n",
       "      <td>1.000000</td>\n",
       "      <td>1.000000</td>\n",
       "      <td>1.000000</td>\n",
       "      <td>1.000000</td>\n",
       "      <td>1.000000</td>\n",
       "      <td>...</td>\n",
       "      <td>1.0</td>\n",
       "      <td>1.0</td>\n",
       "      <td>1.0</td>\n",
       "      <td>1.0</td>\n",
       "      <td>1.0</td>\n",
       "      <td>1.0</td>\n",
       "      <td>1.0</td>\n",
       "      <td>1.0</td>\n",
       "      <td>1.0</td>\n",
       "      <td>1.0</td>\n",
       "    </tr>\n",
       "  </tbody>\n",
       "</table>\n",
       "<p>8 rows × 86 columns</p>\n",
       "</div>"
      ],
      "text/plain": [
       "       Screen to Body Ratio (calculated)  Internal Memory     Weight  \\\n",
       "count                         341.000000       341.000000  341.00000   \n",
       "mean                            0.507331         0.689150    0.55132   \n",
       "std                             0.500681         0.463522    0.49809   \n",
       "min                             0.000000         0.000000    0.00000   \n",
       "25%                             0.000000         0.000000    0.00000   \n",
       "50%                             1.000000         1.000000    1.00000   \n",
       "75%                             1.000000         1.000000    1.00000   \n",
       "max                             1.000000         1.000000    1.00000   \n",
       "\n",
       "       Pixel Density  Processor_frequency  Resolution         RAM    Capacity  \\\n",
       "count     341.000000           341.000000  341.000000  341.000000  341.000000   \n",
       "mean        0.510264             0.521994    0.601173    0.718475    0.501466   \n",
       "std         0.500629             0.500250    0.490377    0.450404    0.500733   \n",
       "min         0.000000             0.000000    0.000000    0.000000    0.000000   \n",
       "25%         0.000000             0.000000    0.000000    0.000000    0.000000   \n",
       "50%         1.000000             1.000000    1.000000    1.000000    1.000000   \n",
       "75%         1.000000             1.000000    1.000000    1.000000    1.000000   \n",
       "max         1.000000             1.000000    1.000000    1.000000    1.000000   \n",
       "\n",
       "       Screen Size      Height  ...  Brand_Sony  Brand_Spice  Brand_Tecno  \\\n",
       "count   341.000000  341.000000  ...       341.0        341.0        341.0   \n",
       "mean      0.618768    0.501466  ...         1.0          1.0          1.0   \n",
       "std       0.486403    0.500733  ...         0.0          0.0          0.0   \n",
       "min       0.000000    0.000000  ...         1.0          1.0          1.0   \n",
       "25%       0.000000    0.000000  ...         1.0          1.0          1.0   \n",
       "50%       1.000000    1.000000  ...         1.0          1.0          1.0   \n",
       "75%       1.000000    1.000000  ...         1.0          1.0          1.0   \n",
       "max       1.000000    1.000000  ...         1.0          1.0          1.0   \n",
       "\n",
       "       Brand_Ulefone  Brand_VOTO  Brand_Vivo  Brand_Xiaomi  Brand_Xiaomi Poco  \\\n",
       "count          341.0       341.0       341.0         341.0              341.0   \n",
       "mean             1.0         1.0         1.0           1.0                1.0   \n",
       "std              0.0         0.0         0.0           0.0                0.0   \n",
       "min              1.0         1.0         1.0           1.0                1.0   \n",
       "25%              1.0         1.0         1.0           1.0                1.0   \n",
       "50%              1.0         1.0         1.0           1.0                1.0   \n",
       "75%              1.0         1.0         1.0           1.0                1.0   \n",
       "max              1.0         1.0         1.0           1.0                1.0   \n",
       "\n",
       "       Brand_Yu  Brand_iVooMi  \n",
       "count     341.0         341.0  \n",
       "mean        1.0           1.0  \n",
       "std         0.0           0.0  \n",
       "min         1.0           1.0  \n",
       "25%         1.0           1.0  \n",
       "50%         1.0           1.0  \n",
       "75%         1.0           1.0  \n",
       "max         1.0           1.0  \n",
       "\n",
       "[8 rows x 86 columns]"
      ]
     },
     "execution_count": 40,
     "metadata": {},
     "output_type": "execute_result"
    }
   ],
   "source": [
    "train_binarised.describe()"
   ]
  },
  {
   "cell_type": "code",
   "execution_count": 41,
   "id": "fcbb9b48",
   "metadata": {
    "execution": {
     "iopub.execute_input": "2022-09-13T05:03:51.616179Z",
     "iopub.status.busy": "2022-09-13T05:03:51.615861Z",
     "iopub.status.idle": "2022-09-13T05:03:51.620923Z",
     "shell.execute_reply": "2022-09-13T05:03:51.619855Z"
    },
    "papermill": {
     "duration": 0.02772,
     "end_time": "2022-09-13T05:03:51.623070",
     "exception": false,
     "start_time": "2022-09-13T05:03:51.595350",
     "status": "completed"
    },
    "tags": []
   },
   "outputs": [],
   "source": [
    "\n",
    "result = result.values\n",
    "train_binarised = train_binarised.values\n",
    "test_binarised = test_binarised.values"
   ]
  },
  {
   "cell_type": "code",
   "execution_count": 42,
   "id": "542b12c2",
   "metadata": {
    "execution": {
     "iopub.execute_input": "2022-09-13T05:03:51.660635Z",
     "iopub.status.busy": "2022-09-13T05:03:51.660331Z",
     "iopub.status.idle": "2022-09-13T05:03:51.665396Z",
     "shell.execute_reply": "2022-09-13T05:03:51.664039Z"
    },
    "papermill": {
     "duration": 0.028255,
     "end_time": "2022-09-13T05:03:51.669137",
     "exception": false,
     "start_time": "2022-09-13T05:03:51.640882",
     "status": "completed"
    },
    "tags": []
   },
   "outputs": [
    {
     "name": "stdout",
     "output_type": "stream",
     "text": [
      "<class 'numpy.ndarray'>\n",
      "<class 'numpy.ndarray'>\n"
     ]
    }
   ],
   "source": [
    "print(type(result))\n",
    "print(type(train_binarised))"
   ]
  },
  {
   "cell_type": "markdown",
   "id": "5db66791",
   "metadata": {
    "papermill": {
     "duration": 0.018174,
     "end_time": "2022-09-13T05:03:51.705630",
     "exception": false,
     "start_time": "2022-09-13T05:03:51.687456",
     "status": "completed"
    },
    "tags": []
   },
   "source": [
    "# MPNeuron Model"
   ]
  },
  {
   "cell_type": "code",
   "execution_count": 43,
   "id": "1cf58378",
   "metadata": {
    "execution": {
     "iopub.execute_input": "2022-09-13T05:03:51.745199Z",
     "iopub.status.busy": "2022-09-13T05:03:51.744843Z",
     "iopub.status.idle": "2022-09-13T05:03:51.753978Z",
     "shell.execute_reply": "2022-09-13T05:03:51.752627Z"
    },
    "papermill": {
     "duration": 0.030766,
     "end_time": "2022-09-13T05:03:51.755774",
     "exception": false,
     "start_time": "2022-09-13T05:03:51.725008",
     "status": "completed"
    },
    "tags": []
   },
   "outputs": [],
   "source": [
    "class MPNeuron:\n",
    "    def _init_(self):\n",
    "        self.b = None\n",
    "    def model(self,x):\n",
    "        return(np.sum(x) >= self.b)\n",
    "    def predict(self,X):\n",
    "        Y = []\n",
    "        for x in X:\n",
    "            mx = self.model(x)\n",
    "            Y.append(mx)\n",
    "        return np.array(Y)\n",
    "    def fit(self,X,Y):\n",
    "        accuracy = {}\n",
    "        for b in range(X.shape[1]+1):\n",
    "            self.b = b\n",
    "            Y_pred = self.predict(X)\n",
    "            accuracy[b] = accuracy_score(Y_pred,Y)\n",
    "        best_b = max(accuracy, key = accuracy.get )\n",
    "        self.b = best_b\n",
    "        print('Optimal value of b is ', best_b)\n",
    "        print('Highest accuracy is ', accuracy[best_b])"
   ]
  },
  {
   "cell_type": "code",
   "execution_count": 44,
   "id": "7bfe8fed",
   "metadata": {
    "execution": {
     "iopub.execute_input": "2022-09-13T05:03:51.793597Z",
     "iopub.status.busy": "2022-09-13T05:03:51.793246Z",
     "iopub.status.idle": "2022-09-13T05:03:51.956883Z",
     "shell.execute_reply": "2022-09-13T05:03:51.955733Z"
    },
    "papermill": {
     "duration": 0.186322,
     "end_time": "2022-09-13T05:03:51.959819",
     "exception": false,
     "start_time": "2022-09-13T05:03:51.773497",
     "status": "completed"
    },
    "tags": []
   },
   "outputs": [
    {
     "name": "stdout",
     "output_type": "stream",
     "text": [
      "Optimal value of b is  79\n",
      "Highest accuracy is  0.6334310850439883\n"
     ]
    }
   ],
   "source": [
    "mp_neuron = MPNeuron()\n",
    "mp_neuron.fit(train_binarised, result)"
   ]
  },
  {
   "cell_type": "markdown",
   "id": "b69d93ef",
   "metadata": {
    "papermill": {
     "duration": 0.017985,
     "end_time": "2022-09-13T05:03:51.997285",
     "exception": false,
     "start_time": "2022-09-13T05:03:51.979300",
     "status": "completed"
    },
    "tags": []
   },
   "source": [
    "# Solution"
   ]
  },
  {
   "cell_type": "code",
   "execution_count": 45,
   "id": "1d967c60",
   "metadata": {
    "execution": {
     "iopub.execute_input": "2022-09-13T05:03:52.036959Z",
     "iopub.status.busy": "2022-09-13T05:03:52.036200Z",
     "iopub.status.idle": "2022-09-13T05:03:52.042106Z",
     "shell.execute_reply": "2022-09-13T05:03:52.041119Z"
    },
    "papermill": {
     "duration": 0.028742,
     "end_time": "2022-09-13T05:03:52.044259",
     "exception": false,
     "start_time": "2022-09-13T05:03:52.015517",
     "status": "completed"
    },
    "tags": []
   },
   "outputs": [],
   "source": [
    "y_pred = mp_neuron.predict(test_binarised)\n",
    "y_pred = y_pred.astype(int)"
   ]
  },
  {
   "cell_type": "code",
   "execution_count": 46,
   "id": "4c6708b8",
   "metadata": {
    "execution": {
     "iopub.execute_input": "2022-09-13T05:03:52.082469Z",
     "iopub.status.busy": "2022-09-13T05:03:52.081865Z",
     "iopub.status.idle": "2022-09-13T05:03:52.091434Z",
     "shell.execute_reply": "2022-09-13T05:03:52.090806Z"
    },
    "papermill": {
     "duration": 0.030626,
     "end_time": "2022-09-13T05:03:52.093059",
     "exception": false,
     "start_time": "2022-09-13T05:03:52.062433",
     "status": "completed"
    },
    "tags": []
   },
   "outputs": [
    {
     "data": {
      "text/html": [
       "<div>\n",
       "<style scoped>\n",
       "    .dataframe tbody tr th:only-of-type {\n",
       "        vertical-align: middle;\n",
       "    }\n",
       "\n",
       "    .dataframe tbody tr th {\n",
       "        vertical-align: top;\n",
       "    }\n",
       "\n",
       "    .dataframe thead th {\n",
       "        text-align: right;\n",
       "    }\n",
       "</style>\n",
       "<table border=\"1\" class=\"dataframe\">\n",
       "  <thead>\n",
       "    <tr style=\"text-align: right;\">\n",
       "      <th></th>\n",
       "      <th>PhoneId</th>\n",
       "      <th>Class</th>\n",
       "    </tr>\n",
       "  </thead>\n",
       "  <tbody>\n",
       "    <tr>\n",
       "      <th>0</th>\n",
       "      <td>3</td>\n",
       "      <td>1</td>\n",
       "    </tr>\n",
       "    <tr>\n",
       "      <th>1</th>\n",
       "      <td>11</td>\n",
       "      <td>1</td>\n",
       "    </tr>\n",
       "    <tr>\n",
       "      <th>2</th>\n",
       "      <td>13</td>\n",
       "      <td>1</td>\n",
       "    </tr>\n",
       "    <tr>\n",
       "      <th>3</th>\n",
       "      <td>16</td>\n",
       "      <td>1</td>\n",
       "    </tr>\n",
       "    <tr>\n",
       "      <th>4</th>\n",
       "      <td>19</td>\n",
       "      <td>1</td>\n",
       "    </tr>\n",
       "  </tbody>\n",
       "</table>\n",
       "</div>"
      ],
      "text/plain": [
       "   PhoneId  Class\n",
       "0        3      1\n",
       "1       11      1\n",
       "2       13      1\n",
       "3       16      1\n",
       "4       19      1"
      ]
     },
     "execution_count": 46,
     "metadata": {},
     "output_type": "execute_result"
    }
   ],
   "source": [
    "submission = pd.DataFrame({'PhoneId':test_old, 'Class':y_pred})\n",
    "submission = submission[['PhoneId', 'Class']]\n",
    "submission.head()"
   ]
  },
  {
   "cell_type": "code",
   "execution_count": 47,
   "id": "e025ec58",
   "metadata": {
    "execution": {
     "iopub.execute_input": "2022-09-13T05:03:52.130675Z",
     "iopub.status.busy": "2022-09-13T05:03:52.130360Z",
     "iopub.status.idle": "2022-09-13T05:03:52.138163Z",
     "shell.execute_reply": "2022-09-13T05:03:52.137155Z"
    },
    "papermill": {
     "duration": 0.029933,
     "end_time": "2022-09-13T05:03:52.140409",
     "exception": false,
     "start_time": "2022-09-13T05:03:52.110476",
     "status": "completed"
    },
    "tags": []
   },
   "outputs": [],
   "source": [
    "submission.to_csv(\"submission.csv\", index=False)"
   ]
  },
  {
   "cell_type": "code",
   "execution_count": 48,
   "id": "010a31e6",
   "metadata": {
    "execution": {
     "iopub.execute_input": "2022-09-13T05:03:52.180187Z",
     "iopub.status.busy": "2022-09-13T05:03:52.179249Z",
     "iopub.status.idle": "2022-09-13T05:03:52.194814Z",
     "shell.execute_reply": "2022-09-13T05:03:52.193929Z"
    },
    "papermill": {
     "duration": 0.037351,
     "end_time": "2022-09-13T05:03:52.196562",
     "exception": false,
     "start_time": "2022-09-13T05:03:52.159211",
     "status": "completed"
    },
    "tags": []
   },
   "outputs": [
    {
     "data": {
      "text/html": [
       "<div>\n",
       "<style scoped>\n",
       "    .dataframe tbody tr th:only-of-type {\n",
       "        vertical-align: middle;\n",
       "    }\n",
       "\n",
       "    .dataframe tbody tr th {\n",
       "        vertical-align: top;\n",
       "    }\n",
       "\n",
       "    .dataframe thead th {\n",
       "        text-align: right;\n",
       "    }\n",
       "</style>\n",
       "<table border=\"1\" class=\"dataframe\">\n",
       "  <thead>\n",
       "    <tr style=\"text-align: right;\">\n",
       "      <th></th>\n",
       "      <th>PhoneId</th>\n",
       "      <th>Class</th>\n",
       "    </tr>\n",
       "  </thead>\n",
       "  <tbody>\n",
       "    <tr>\n",
       "      <th>count</th>\n",
       "      <td>119.000000</td>\n",
       "      <td>119.000000</td>\n",
       "    </tr>\n",
       "    <tr>\n",
       "      <th>mean</th>\n",
       "      <td>240.176471</td>\n",
       "      <td>0.697479</td>\n",
       "    </tr>\n",
       "    <tr>\n",
       "      <th>std</th>\n",
       "      <td>136.804614</td>\n",
       "      <td>0.461292</td>\n",
       "    </tr>\n",
       "    <tr>\n",
       "      <th>min</th>\n",
       "      <td>3.000000</td>\n",
       "      <td>0.000000</td>\n",
       "    </tr>\n",
       "    <tr>\n",
       "      <th>25%</th>\n",
       "      <td>130.000000</td>\n",
       "      <td>0.000000</td>\n",
       "    </tr>\n",
       "    <tr>\n",
       "      <th>50%</th>\n",
       "      <td>245.000000</td>\n",
       "      <td>1.000000</td>\n",
       "    </tr>\n",
       "    <tr>\n",
       "      <th>75%</th>\n",
       "      <td>348.500000</td>\n",
       "      <td>1.000000</td>\n",
       "    </tr>\n",
       "    <tr>\n",
       "      <th>max</th>\n",
       "      <td>473.000000</td>\n",
       "      <td>1.000000</td>\n",
       "    </tr>\n",
       "  </tbody>\n",
       "</table>\n",
       "</div>"
      ],
      "text/plain": [
       "          PhoneId       Class\n",
       "count  119.000000  119.000000\n",
       "mean   240.176471    0.697479\n",
       "std    136.804614    0.461292\n",
       "min      3.000000    0.000000\n",
       "25%    130.000000    0.000000\n",
       "50%    245.000000    1.000000\n",
       "75%    348.500000    1.000000\n",
       "max    473.000000    1.000000"
      ]
     },
     "execution_count": 48,
     "metadata": {},
     "output_type": "execute_result"
    }
   ],
   "source": [
    "submission.describe()"
   ]
  }
 ],
 "metadata": {
  "kernelspec": {
   "display_name": "Python 3",
   "language": "python",
   "name": "python3"
  },
  "language_info": {
   "codemirror_mode": {
    "name": "ipython",
    "version": 3
   },
   "file_extension": ".py",
   "mimetype": "text/x-python",
   "name": "python",
   "nbconvert_exporter": "python",
   "pygments_lexer": "ipython3",
   "version": "3.7.12"
  },
  "papermill": {
   "default_parameters": {},
   "duration": 25.040962,
   "end_time": "2022-09-13T05:03:53.037039",
   "environment_variables": {},
   "exception": null,
   "input_path": "__notebook__.ipynb",
   "output_path": "__notebook__.ipynb",
   "parameters": {},
   "start_time": "2022-09-13T05:03:27.996077",
   "version": "2.3.4"
  }
 },
 "nbformat": 4,
 "nbformat_minor": 5
}
